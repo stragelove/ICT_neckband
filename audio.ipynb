{
 "cells": [
  {
   "cell_type": "code",
   "execution_count": 1,
   "id": "93369c38",
   "metadata": {},
   "outputs": [],
   "source": [
    "import soundata"
   ]
  },
  {
   "cell_type": "code",
   "execution_count": null,
   "id": "48676920",
   "metadata": {},
   "outputs": [
    {
     "name": "stderr",
     "output_type": "stream",
     "text": [
      "INFO: Downloading ['all', 'index']. Index is being stored in C:\\Users\\Threadnull\\anaconda3\\envs\\audio\\Lib\\site-packages\\soundata\\datasets\\indexes, and the rest of files in /tmp\\sound_datasets\\urbansound8k\n",
      "INFO: [all] downloading UrbanSound8K.tar.gz\n",
      "  0%|          | 12.5M/5.61G [01:10<10:24:58, 160kB/s]  "
     ]
    }
   ],
   "source": [
    "# UrbanSound8K 데이터셋 객체 생성\n",
    "ds = soundata.initialize(\"urbansound8k\")\n",
    "\n",
    "# UrbanSound8K 데이터셋 다운로드 및 압축 해제 (자동)\n",
    "ds.download()   # ./soundata_datasets/urbansound8k/ 에 자동 저장됨"
   ]
  },
  {
   "cell_type": "code",
   "execution_count": null,
   "id": "ddd72eba",
   "metadata": {},
   "outputs": [],
   "source": [
    "\n",
    "# (Optional) 데이터셋 기본 정보 출력\n",
    "print(ds.citation)\n",
    "print(ds.remotes)\n",
    "print(\"오디오 파일 개수:\", len(ds.audio_paths))\n"
   ]
  }
 ],
 "metadata": {
  "kernelspec": {
   "display_name": "audio",
   "language": "python",
   "name": "python3"
  },
  "language_info": {
   "codemirror_mode": {
    "name": "ipython",
    "version": 3
   },
   "file_extension": ".py",
   "mimetype": "text/x-python",
   "name": "python",
   "nbconvert_exporter": "python",
   "pygments_lexer": "ipython3",
   "version": "3.10.16"
  }
 },
 "nbformat": 4,
 "nbformat_minor": 5
}
