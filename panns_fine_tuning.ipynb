{
 "cells": [
  {
   "cell_type": "code",
   "execution_count": 2,
   "id": "3403b6b7",
   "metadata": {},
   "outputs": [],
   "source": [
    "import sys\n",
    "sys.path.append('./models/')"
   ]
  },
  {
   "cell_type": "code",
   "execution_count": 3,
   "id": "f296e7a0",
   "metadata": {},
   "outputs": [],
   "source": [
    "import os\n",
    "import torch\n",
    "import torchaudio\n",
    "import torch.nn.functional as F\n",
    "from torch.utils.data import Dataset, DataLoader\n",
    "from torchvision import transforms\n",
    "from sklearn.model_selection import train_test_split"
   ]
  },
  {
   "cell_type": "code",
   "execution_count": 4,
   "id": "989ffb32",
   "metadata": {},
   "outputs": [],
   "source": [
    "DATASET = \".\\\\Dataset\"\n",
    "CLASS_NAME = [\"danger\", \"fire\", \"gas\", \"non\", \"tsunami\"]"
   ]
  },
  {
   "cell_type": "code",
   "execution_count": 5,
   "id": "9d1c7fe2",
   "metadata": {},
   "outputs": [],
   "source": [
    "# 데이터와 라벨\n",
    "filepaths = []\n",
    "labels = []\n",
    "\n",
    "for root, _, files in os.walk(DATASET):\n",
    "    class_label = os.path.basename(root)\n",
    "    if class_label not in CLASS_NAME:\n",
    "        continue\n",
    "\n",
    "    for file in files:\n",
    "        if not file.lower().endswith(\".wav\"):\n",
    "            continue\n",
    "\n",
    "        full_path = os.path.join(root, file)\n",
    "        filepaths.append(full_path)\n",
    "        labels.append(class_label)"
   ]
  },
  {
   "cell_type": "code",
   "execution_count": null,
   "id": "98565d22",
   "metadata": {},
   "outputs": [],
   "source": [
    "\n",
    "class AudioDataset(Dataset):\n",
    "    def __init__(self, filepaths, labels, sample_rate=16000, duration=10.0):\n",
    "        self.filepaths = filepaths # 데이터 경로\n",
    "        self.labels = labels # 라벨\n",
    "        self.sample_rate = sample_rate # 샘플링레이트\n",
    "        self.num_samples = int(sample_rate * duration) # 오디오 샘플의 길이\n",
    "\n",
    "    # 데이터셋의 길이 = 파일 갯수\n",
    "    def __len__(self):\n",
    "        return len(self.filepaths)\n",
    "\n",
    "    def __getitem__(self, idx):\n",
    "        filepath = self.filepaths[idx]\n",
    "        label = self.labels[idx]\n",
    "\n",
    "        waveform, sr = torchaudio.load(filepath)\n",
    "\n",
    "        # 모노(1채널)로 변환\n",
    "        if waveform.shape[0] > 1:\n",
    "            waveform = waveform.mean(dim=0, keepdim=True)\n",
    "\n",
    "        # 원하는 샘플링레이트가 아니면 리샘플링\n",
    "        if sr != self.sample_rate:\n",
    "            resampler = torchaudio.transforms.Resample(sr, self.sample_rate)\n",
    "            waveform = resampler(waveform)\n",
    "\n",
    "        # 오디오 샘플의 길이조정\n",
    "        if waveform.shape[1] < self.num_samples: # 길이가 부족하면 0(무음)을 채워 길이를 연장\n",
    "            waveform = F.pad(waveform, (0, self.num_samples - waveform.shape[1]))\n",
    "        else:\n",
    "            waveform = waveform[:, :self.num_samples] # 길이가 길면 슬라이싱\n",
    "\n",
    "        # 절댓값 정규화(-1 ~ 1)\n",
    "        waveform = waveform / (waveform.abs().max() + 1e-9)\n",
    "        '''\n",
    "        샘플의 shape를 모델에 맞추기\n",
    "\n",
    "        샘플은 전처리과정을 거쳐 모노화(1채널)와 \n",
    "        길이가 고정 되어 (1, 160000) 형태\n",
    "\n",
    "        모델은 (batch_size, data_length)형태의 입력을 받는다\n",
    "        여기서 필요한 부분은 data_length뿐 채널의 정보는 필요없다\n",
    "\n",
    "        그래서 채널정보를 제거하기위해 squeeze()\n",
    "        '''\n",
    "        waveform = waveform.squeeze(0)\n",
    "        return waveform, label\n"
   ]
  }
 ],
 "metadata": {
  "kernelspec": {
   "display_name": "pytorch_2.6.0",
   "language": "python",
   "name": "python3"
  },
  "language_info": {
   "codemirror_mode": {
    "name": "ipython",
    "version": 3
   },
   "file_extension": ".py",
   "mimetype": "text/x-python",
   "name": "python",
   "nbconvert_exporter": "python",
   "pygments_lexer": "ipython3",
   "version": "3.13.2"
  }
 },
 "nbformat": 4,
 "nbformat_minor": 5
}
