{
 "cells": [
  {
   "cell_type": "code",
   "execution_count": 1,
   "id": "f296e7a0",
   "metadata": {},
   "outputs": [],
   "source": [
    "import os\n",
    "import shutil\n",
    "import torch\n",
    "import torch.nn as nn\n",
    "import torch.optim as optim\n",
    "import torchaudio\n",
    "import torch.nn.functional as F\n",
    "from torch.utils.data import Dataset, DataLoader\n",
    "from torch.utils.tensorboard import SummaryWriter\n",
    "from model.cnn14 import Cnn14\n",
    "from model.stft import AudioPreprocessor\n",
    "from sklearn.model_selection import train_test_split\n",
    "from sklearn.preprocessing import LabelEncoder, OneHotEncoder\n",
    "from tqdm import tqdm"
   ]
  },
  {
   "cell_type": "code",
   "execution_count": 2,
   "id": "557c094d",
   "metadata": {},
   "outputs": [
    {
     "name": "stdout",
     "output_type": "stream",
     "text": [
      "2.7.0+cu126\n",
      "True\n"
     ]
    }
   ],
   "source": [
    "print(torch.__version__)\n",
    "print(torch.cuda.is_available())"
   ]
  },
  {
   "cell_type": "code",
   "execution_count": 3,
   "id": "989ffb32",
   "metadata": {},
   "outputs": [],
   "source": [
    "# LOGDIR = './runs/cnn14_experiment'\n",
    "# writer = SummaryWriter(LOGDIR)\n",
    "\n",
    "DATASET = \"./Dataset/\" # 데이터셋 경로\n",
    "CHECKPOINT = \"./checkpoint/Cnn14_16k_mAP=0.438.pth\" # 모델의 사전학습된 가중치\n",
    "SAVE_BEST_PATH = \"./result/best.pt\" # 학습완료된 모델 저장 위치\n",
    "SAVE_LAST_PATH = \"./result/last.pt\" # 학습완료된 모델 저장 위치\n",
    "CLASS_NAME = [\"danger\", \"fire\", \"gas\", \"non\", \"tsunami\"] # 분류할 클래스\n",
    "DEVICE = torch.device(\"cuda\" if torch.cuda.is_available() else \"cpu\") # torch에 전달할 디바이스 종류\n",
    "\n",
    "# 하이퍼 파라미터\n",
    "CLASS_NUM = len(CLASS_NAME)\n",
    "SAMPLE_RATE = 16000\n",
    "DURATION = 1\n",
    "BATCH_SIZE = 32\n",
    "EPOCHS = 20\n",
    "LEARNING_RATE = 1e-4\n",
    "WINDOW_SIZE = 512\n",
    "HOP_SIZE = 160\n",
    "MEL_BINS = 64\n",
    "FMIN = 50\n",
    "FMAX = 8000"
   ]
  },
  {
   "cell_type": "code",
   "execution_count": 4,
   "id": "98565d22",
   "metadata": {},
   "outputs": [],
   "source": [
    "class ClassNameError(Exception):\n",
    "    def __init__(self):\n",
    "        super().__init__(\"폴더이름과 클래스이름이 일치 하지 않습니다.\")\n",
    "\n",
    "# 커스텀 데이터셋 정의\n",
    "class AudioDataset(Dataset):\n",
    "    def __init__(self, filepaths, labels, audio_preprocessor, training, sample_rate=SAMPLE_RATE, duration=DURATION):\n",
    "        self.filepaths = filepaths # 데이터 경로\n",
    "        self.labels = labels # 라벨\n",
    "        self.sample_rate = sample_rate # 샘플링 레이트\n",
    "        self.num_samples = int(sample_rate * duration) # 오디오 샘플의 길이\n",
    "        self.audio_preprocessor = audio_preprocessor\n",
    "        self.training = training\n",
    "\n",
    "    # 데이터셋의 길이(파일 개수) 반환\n",
    "    def __len__(self):\n",
    "        return len(self.filepaths)\n",
    "\n",
    "    def __getitem__(self, idx):\n",
    "        filepath = self.filepaths[idx]\n",
    "        label = self.labels[idx]\n",
    "\n",
    "        waveform, sr = torchaudio.load(filepath) # waveform (channel, length)\n",
    "\n",
    "        # 모노(1채널)로 변환\n",
    "        if waveform.shape[0] > 1:\n",
    "            waveform = waveform.mean(dim=0, keepdim=True)\n",
    "\n",
    "        # 원하는 샘플링 레이트가 아니면 리샘플링\n",
    "        if sr != self.sample_rate:\n",
    "            resampler = torchaudio.transforms.Resample(sr, self.sample_rate)\n",
    "            waveform = resampler(waveform)\n",
    "\n",
    "        # 오디오 샘플의 길이조정\n",
    "        if waveform.shape[1] < self.num_samples: # 길이가 부족하면 0(무음)을 채워 길이를 연장\n",
    "            waveform = F.pad(waveform, (0, self.num_samples - waveform.shape[1])) # num_samples와 현재의 길이의 차 만큼 0을 패딩\n",
    "        else:\n",
    "            waveform = waveform[:, :self.num_samples] # 길이가 길면 슬라이싱\n",
    "\n",
    "        # 절댓값 정규화(-1 ~ 1)\n",
    "        waveform = waveform / (waveform.abs().max() + 1e-9)\n",
    "\n",
    "        # input: wavefrom (1, length)\n",
    "        with torch.no_grad():\n",
    "            logmel = self.audio_preprocessor(waveform, training=self.training) # (1, 1, time, mel_bins)\n",
    "            # print(f\">>> Dataset - SpecAug training={self.training}\")\n",
    "            logmel = logmel.squeeze(0) # (1, time, mel_bins)\n",
    "\n",
    "        return logmel, label\n"
   ]
  },
  {
   "cell_type": "code",
   "execution_count": 5,
   "id": "8403fb95",
   "metadata": {},
   "outputs": [],
   "source": [
    "# 학습함수\n",
    "def train_epoch(model, loader, optimizer, criterion, device):\n",
    "    model.train() # 학습모드\n",
    "    running_loss = 0.0 # 손실\n",
    "    total_samples = 0\n",
    "    total_correct = 0\n",
    "\n",
    "    # 배치 단위로 데이터로드\n",
    "    for waveforms, labels in tqdm(loader, desc=\"학습중\", leave=True):\n",
    "        waveforms = waveforms.to(device) # gpu로 전달\n",
    "        labels = labels.to(device).float() # BCE 손실함수에는 반드시 실수형필요\n",
    "\n",
    "        optimizer.zero_grad() # 경사값 초기화\n",
    "\n",
    "        outputs = model(waveforms)[\"clipwise_output\"] # 모델에 데이터입력\n",
    "\n",
    "        loss = criterion(outputs, labels) # 손실계산\n",
    "        loss.backward() # 역전파\n",
    "        optimizer.step() # 가중치 갱신\n",
    "\n",
    "        # 배치 손실을 누적\n",
    "        running_loss += loss.item() * waveforms.size(0)\n",
    "\n",
    "        # 예측 임계값 0.5 이상을 양성 클래스라 판단하여 이진 예측 생성\n",
    "        predicts = (outputs > 0.5).int()\n",
    "        targets = labels.int()\n",
    "\n",
    "        # 모든 클래스가 일치하는 샘플 개수 카운트, 모든 클래스 다 맞아야 정답 처리\n",
    "        total_correct += (predicts == targets).all(dim=1).sum().item()\n",
    "        total_samples += labels.size(0)\n",
    "\n",
    "    avg_loss = running_loss / total_samples # 평균손실\n",
    "    accuracy = total_correct  / total_samples # 정답 개수 / 전체 예측값 개수\n",
    "\n",
    "    return avg_loss, accuracy\n",
    "\n",
    "# 검증함수\n",
    "def validate(model, loader, criterion, device):\n",
    "    model.eval() #평가모드\n",
    "    running_loss = 0.0\n",
    "    total_samples = 0\n",
    "    total_correct = 0\n",
    "\n",
    "    # 검증에는 기울기 계산필요없음, 즉 역전파 없음\n",
    "    with torch.no_grad():\n",
    "        for waveforms, labels in tqdm(loader, desc=\"검증중\", leave=True):\n",
    "            waveforms = waveforms.to(device)\n",
    "            labels = labels.to(device).float()\n",
    "\n",
    "            outputs = model(waveforms)[\"clipwise_output\"]\n",
    "            loss = criterion(outputs, labels)\n",
    "\n",
    "            running_loss += loss.item() * waveforms.size(0)\n",
    "\n",
    "            predicts = (outputs > 0.5).int()\n",
    "            targets = labels.int()\n",
    "\n",
    "            total_correct += (predicts == targets).all(dim=1).sum().item()\n",
    "            total_samples += labels.size(0)\n",
    "\n",
    "    avg_loss = running_loss / total_samples\n",
    "    accuracy = total_correct  / total_samples\n",
    "    \n",
    "    return avg_loss, accuracy"
   ]
  },
  {
   "cell_type": "code",
   "execution_count": 6,
   "id": "9d1c7fe2",
   "metadata": {},
   "outputs": [],
   "source": [
    "# 데이터와 라벨\n",
    "filepaths, labels = [], []\n",
    "\n",
    "# 데이터셋과 하위폴더에서 확장자가 \"wav\"인 파일의 경로와 라벨(폴더이름) 저장\n",
    "for root, _, files in os.walk(DATASET):\n",
    "    folder_name = os.path.basename(root)\n",
    "\n",
    "    # 폴더명이 클래스 리스트에 없는 경우 에러\n",
    "    if folder_name not in CLASS_NAME and folder_name != \"\":\n",
    "        raise ClassNameError\n",
    "    \n",
    "    for file in files:\n",
    "        if not file.lower().endswith(\".wav\"):\n",
    "            continue\n",
    "        \n",
    "        filepaths.append(os.path.join(root, file))\n",
    "        labels.append(folder_name)"
   ]
  },
  {
   "cell_type": "code",
   "execution_count": 7,
   "id": "2675d4ea",
   "metadata": {},
   "outputs": [],
   "source": [
    "# 문자열 라벨 → 정수인코딩 → 원핫인코딩\n",
    "label_encoder = LabelEncoder()\n",
    "integer_labels = label_encoder.fit_transform(labels).reshape(-1, 1)\n",
    "\n",
    "onehot_encoder = OneHotEncoder(sparse_output=False)\n",
    "encoded_labels = onehot_encoder.fit_transform(integer_labels)"
   ]
  },
  {
   "cell_type": "code",
   "execution_count": 8,
   "id": "6ff12fc1",
   "metadata": {},
   "outputs": [
    {
     "name": "stdout",
     "output_type": "stream",
     "text": [
      "[[1. 0. 0. 0. 0.]\n",
      " [1. 0. 0. 0. 0.]\n",
      " [1. 0. 0. 0. 0.]\n",
      " ...\n",
      " [0. 0. 0. 0. 1.]\n",
      " [0. 0. 0. 0. 1.]\n",
      " [0. 0. 0. 0. 1.]]\n"
     ]
    }
   ],
   "source": [
    "print(encoded_labels)"
   ]
  },
  {
   "cell_type": "code",
   "execution_count": 9,
   "id": "91abf308",
   "metadata": {},
   "outputs": [],
   "source": [
    "# 데이터셋을 8:1:1의 비율을 가진 학습, 검증, 테스트로 나누기\n",
    "X_train, X_temp, y_train, y_temp = train_test_split(\n",
    "    filepaths, # X\n",
    "    encoded_labels, # y\n",
    "    test_size=0.2, # train과 임시데이터셋 비율 8:2\n",
    "    stratify=labels, # 기준값을 기준으로 동일한 클래스의 비율로 나누기\n",
    "    random_state=42 # seed\n",
    ")\n",
    "\n",
    "X_val, X_test, y_val, y_test = train_test_split(\n",
    "    X_temp,\n",
    "    y_temp,\n",
    "    test_size=0.5, # 임시데이터셋을 1:1 비율로 val과 test로 나누기\n",
    "    stratify=y_temp,\n",
    "    random_state=42\n",
    ")"
   ]
  },
  {
   "cell_type": "code",
   "execution_count": 10,
   "id": "5dee83f9",
   "metadata": {},
   "outputs": [
    {
     "name": "stdout",
     "output_type": "stream",
     "text": [
      "2400 2400\n",
      "300 300\n",
      "300 300\n"
     ]
    }
   ],
   "source": [
    "print(len(X_train), len(y_train))\n",
    "print(len(X_val), len(y_val))\n",
    "print(len(X_test), len(y_test))"
   ]
  },
  {
   "cell_type": "code",
   "execution_count": 11,
   "id": "75947fa5",
   "metadata": {},
   "outputs": [
    {
     "name": "stdout",
     "output_type": "stream",
     "text": [
      "./Dataset/tsunami\\5_tsunami_alarm_332.wav\n",
      "./calibration\\5_tsunami_alarm_332.wav\n",
      "./Dataset/non\\4_non_alarm_561.wav\n",
      "./calibration\\4_non_alarm_561.wav\n",
      "./Dataset/tsunami\\5_tsunami_alarm_572.wav\n",
      "./calibration\\5_tsunami_alarm_572.wav\n",
      "./Dataset/gas\\3_gas_alarm_154.wav\n",
      "./calibration\\3_gas_alarm_154.wav\n",
      "./Dataset/fire\\2_fire_alarm_548.wav\n",
      "./calibration\\2_fire_alarm_548.wav\n",
      "./Dataset/gas\\3_gas_alarm_425.wav\n",
      "./calibration\\3_gas_alarm_425.wav\n",
      "./Dataset/non\\4_non_alarm_483.wav\n",
      "./calibration\\4_non_alarm_483.wav\n",
      "./Dataset/fire\\2_fire_alarm_395.wav\n",
      "./calibration\\2_fire_alarm_395.wav\n",
      "./Dataset/gas\\3_gas_alarm_484.wav\n",
      "./calibration\\3_gas_alarm_484.wav\n",
      "./Dataset/danger\\1_danger_alarm_190.wav\n",
      "./calibration\\1_danger_alarm_190.wav\n",
      "./Dataset/non\\4_non_alarm_435.wav\n",
      "./calibration\\4_non_alarm_435.wav\n",
      "./Dataset/non\\4_non_alarm_119.wav\n",
      "./calibration\\4_non_alarm_119.wav\n",
      "./Dataset/tsunami\\5_tsunami_alarm_253.wav\n",
      "./calibration\\5_tsunami_alarm_253.wav\n",
      "./Dataset/gas\\3_gas_alarm_81.wav\n",
      "./calibration\\3_gas_alarm_81.wav\n",
      "./Dataset/gas\\3_gas_alarm_242.wav\n",
      "./calibration\\3_gas_alarm_242.wav\n",
      "./Dataset/tsunami\\5_tsunami_alarm_458.wav\n",
      "./calibration\\5_tsunami_alarm_458.wav\n",
      "./Dataset/fire\\2_fire_alarm_449.wav\n",
      "./calibration\\2_fire_alarm_449.wav\n",
      "./Dataset/danger\\1_danger_alarm_180.wav\n",
      "./calibration\\1_danger_alarm_180.wav\n",
      "./Dataset/fire\\2_fire_alarm_563.wav\n",
      "./calibration\\2_fire_alarm_563.wav\n",
      "./Dataset/tsunami\\5_tsunami_alarm_412.wav\n",
      "./calibration\\5_tsunami_alarm_412.wav\n",
      "./Dataset/fire\\2_fire_alarm_512.wav\n",
      "./calibration\\2_fire_alarm_512.wav\n",
      "./Dataset/gas\\3_gas_alarm_9.wav\n",
      "./calibration\\3_gas_alarm_9.wav\n",
      "./Dataset/tsunami\\5_tsunami_alarm_222.wav\n",
      "./calibration\\5_tsunami_alarm_222.wav\n",
      "./Dataset/fire\\2_fire_alarm_139.wav\n",
      "./calibration\\2_fire_alarm_139.wav\n",
      "./Dataset/danger\\1_danger_alarm_129.wav\n",
      "./calibration\\1_danger_alarm_129.wav\n",
      "./Dataset/gas\\3_gas_alarm_82.wav\n",
      "./calibration\\3_gas_alarm_82.wav\n",
      "./Dataset/non\\4_non_alarm_116.wav\n",
      "./calibration\\4_non_alarm_116.wav\n",
      "./Dataset/gas\\3_gas_alarm_105.wav\n",
      "./calibration\\3_gas_alarm_105.wav\n",
      "./Dataset/tsunami\\5_tsunami_alarm_176.wav\n",
      "./calibration\\5_tsunami_alarm_176.wav\n",
      "./Dataset/danger\\1_danger_alarm_525.wav\n",
      "./calibration\\1_danger_alarm_525.wav\n",
      "./Dataset/tsunami\\5_tsunami_alarm_319.wav\n",
      "./calibration\\5_tsunami_alarm_319.wav\n",
      "./Dataset/fire\\2_fire_alarm_129.wav\n",
      "./calibration\\2_fire_alarm_129.wav\n",
      "./Dataset/fire\\2_fire_alarm_164.wav\n",
      "./calibration\\2_fire_alarm_164.wav\n",
      "./Dataset/gas\\3_gas_alarm_411.wav\n",
      "./calibration\\3_gas_alarm_411.wav\n",
      "./Dataset/gas\\3_gas_alarm_598.wav\n",
      "./calibration\\3_gas_alarm_598.wav\n",
      "./Dataset/danger\\1_danger_alarm_73.wav\n",
      "./calibration\\1_danger_alarm_73.wav\n",
      "./Dataset/gas\\3_gas_alarm_76.wav\n",
      "./calibration\\3_gas_alarm_76.wav\n",
      "./Dataset/fire\\2_fire_alarm_392.wav\n",
      "./calibration\\2_fire_alarm_392.wav\n",
      "./Dataset/non\\4_non_alarm_7.wav\n",
      "./calibration\\4_non_alarm_7.wav\n",
      "./Dataset/danger\\1_danger_alarm_486.wav\n",
      "./calibration\\1_danger_alarm_486.wav\n",
      "./Dataset/gas\\3_gas_alarm_24.wav\n",
      "./calibration\\3_gas_alarm_24.wav\n",
      "./Dataset/non\\4_non_alarm_228.wav\n",
      "./calibration\\4_non_alarm_228.wav\n",
      "./Dataset/non\\4_non_alarm_181.wav\n",
      "./calibration\\4_non_alarm_181.wav\n",
      "./Dataset/tsunami\\5_tsunami_alarm_136.wav\n",
      "./calibration\\5_tsunami_alarm_136.wav\n",
      "./Dataset/non\\4_non_alarm_369.wav\n",
      "./calibration\\4_non_alarm_369.wav\n",
      "./Dataset/gas\\3_gas_alarm_113.wav\n",
      "./calibration\\3_gas_alarm_113.wav\n",
      "./Dataset/tsunami\\5_tsunami_alarm_84.wav\n",
      "./calibration\\5_tsunami_alarm_84.wav\n",
      "./Dataset/gas\\3_gas_alarm_574.wav\n",
      "./calibration\\3_gas_alarm_574.wav\n",
      "./Dataset/fire\\2_fire_alarm_315.wav\n",
      "./calibration\\2_fire_alarm_315.wav\n",
      "./Dataset/tsunami\\5_tsunami_alarm_79.wav\n",
      "./calibration\\5_tsunami_alarm_79.wav\n",
      "./Dataset/tsunami\\5_tsunami_alarm_478.wav\n",
      "./calibration\\5_tsunami_alarm_478.wav\n",
      "./Dataset/gas\\3_gas_alarm_575.wav\n",
      "./calibration\\3_gas_alarm_575.wav\n",
      "./Dataset/tsunami\\5_tsunami_alarm_386.wav\n",
      "./calibration\\5_tsunami_alarm_386.wav\n",
      "./Dataset/danger\\1_danger_alarm_407.wav\n",
      "./calibration\\1_danger_alarm_407.wav\n",
      "./Dataset/danger\\1_danger_alarm_361.wav\n",
      "./calibration\\1_danger_alarm_361.wav\n",
      "./Dataset/gas\\3_gas_alarm_200.wav\n",
      "./calibration\\3_gas_alarm_200.wav\n",
      "./Dataset/fire\\2_fire_alarm_307.wav\n",
      "./calibration\\2_fire_alarm_307.wav\n",
      "./Dataset/non\\4_non_alarm_175.wav\n",
      "./calibration\\4_non_alarm_175.wav\n",
      "./Dataset/non\\4_non_alarm_103.wav\n",
      "./calibration\\4_non_alarm_103.wav\n",
      "./Dataset/fire\\2_fire_alarm_272.wav\n",
      "./calibration\\2_fire_alarm_272.wav\n",
      "./Dataset/non\\4_non_alarm_190.wav\n",
      "./calibration\\4_non_alarm_190.wav\n",
      "./Dataset/fire\\2_fire_alarm_304.wav\n",
      "./calibration\\2_fire_alarm_304.wav\n",
      "./Dataset/fire\\2_fire_alarm_434.wav\n",
      "./calibration\\2_fire_alarm_434.wav\n",
      "./Dataset/fire\\2_fire_alarm_330.wav\n",
      "./calibration\\2_fire_alarm_330.wav\n",
      "./Dataset/gas\\3_gas_alarm_26.wav\n",
      "./calibration\\3_gas_alarm_26.wav\n",
      "./Dataset/tsunami\\5_tsunami_alarm_353.wav\n",
      "./calibration\\5_tsunami_alarm_353.wav\n",
      "./Dataset/fire\\2_fire_alarm_405.wav\n",
      "./calibration\\2_fire_alarm_405.wav\n",
      "./Dataset/gas\\3_gas_alarm_372.wav\n",
      "./calibration\\3_gas_alarm_372.wav\n",
      "./Dataset/non\\4_non_alarm_30.wav\n",
      "./calibration\\4_non_alarm_30.wav\n",
      "./Dataset/fire\\2_fire_alarm_64.wav\n",
      "./calibration\\2_fire_alarm_64.wav\n",
      "./Dataset/tsunami\\5_tsunami_alarm_375.wav\n",
      "./calibration\\5_tsunami_alarm_375.wav\n",
      "./Dataset/tsunami\\5_tsunami_alarm_445.wav\n",
      "./calibration\\5_tsunami_alarm_445.wav\n",
      "./Dataset/non\\4_non_alarm_319.wav\n",
      "./calibration\\4_non_alarm_319.wav\n",
      "./Dataset/non\\4_non_alarm_380.wav\n",
      "./calibration\\4_non_alarm_380.wav\n",
      "./Dataset/fire\\2_fire_alarm_571.wav\n",
      "./calibration\\2_fire_alarm_571.wav\n",
      "./Dataset/non\\4_non_alarm_384.wav\n",
      "./calibration\\4_non_alarm_384.wav\n",
      "./Dataset/tsunami\\5_tsunami_alarm_230.wav\n",
      "./calibration\\5_tsunami_alarm_230.wav\n",
      "./Dataset/gas\\3_gas_alarm_483.wav\n",
      "./calibration\\3_gas_alarm_483.wav\n",
      "./Dataset/non\\4_non_alarm_313.wav\n",
      "./calibration\\4_non_alarm_313.wav\n",
      "./Dataset/tsunami\\5_tsunami_alarm_502.wav\n",
      "./calibration\\5_tsunami_alarm_502.wav\n",
      "./Dataset/tsunami\\5_tsunami_alarm_521.wav\n",
      "./calibration\\5_tsunami_alarm_521.wav\n",
      "./Dataset/fire\\2_fire_alarm_555.wav\n",
      "./calibration\\2_fire_alarm_555.wav\n",
      "./Dataset/danger\\1_danger_alarm_189.wav\n",
      "./calibration\\1_danger_alarm_189.wav\n",
      "./Dataset/fire\\2_fire_alarm_160.wav\n",
      "./calibration\\2_fire_alarm_160.wav\n",
      "./Dataset/non\\4_non_alarm_372.wav\n",
      "./calibration\\4_non_alarm_372.wav\n",
      "./Dataset/non\\4_non_alarm_188.wav\n",
      "./calibration\\4_non_alarm_188.wav\n",
      "./Dataset/danger\\1_danger_alarm_215.wav\n",
      "./calibration\\1_danger_alarm_215.wav\n",
      "./Dataset/danger\\1_danger_alarm_188.wav\n",
      "./calibration\\1_danger_alarm_188.wav\n",
      "./Dataset/gas\\3_gas_alarm_445.wav\n",
      "./calibration\\3_gas_alarm_445.wav\n",
      "./Dataset/danger\\1_danger_alarm_252.wav\n",
      "./calibration\\1_danger_alarm_252.wav\n",
      "./Dataset/fire\\2_fire_alarm_204.wav\n",
      "./calibration\\2_fire_alarm_204.wav\n",
      "./Dataset/fire\\2_fire_alarm_27.wav\n",
      "./calibration\\2_fire_alarm_27.wav\n",
      "./Dataset/danger\\1_danger_alarm_28.wav\n",
      "./calibration\\1_danger_alarm_28.wav\n",
      "./Dataset/non\\4_non_alarm_478.wav\n",
      "./calibration\\4_non_alarm_478.wav\n",
      "./Dataset/tsunami\\5_tsunami_alarm_85.wav\n",
      "./calibration\\5_tsunami_alarm_85.wav\n",
      "./Dataset/fire\\2_fire_alarm_549.wav\n",
      "./calibration\\2_fire_alarm_549.wav\n",
      "./Dataset/non\\4_non_alarm_105.wav\n",
      "./calibration\\4_non_alarm_105.wav\n",
      "./Dataset/danger\\1_danger_alarm_380.wav\n",
      "./calibration\\1_danger_alarm_380.wav\n",
      "./Dataset/tsunami\\5_tsunami_alarm_29.wav\n",
      "./calibration\\5_tsunami_alarm_29.wav\n",
      "./Dataset/gas\\3_gas_alarm_224.wav\n",
      "./calibration\\3_gas_alarm_224.wav\n",
      "./Dataset/tsunami\\5_tsunami_alarm_131.wav\n",
      "./calibration\\5_tsunami_alarm_131.wav\n",
      "./Dataset/tsunami\\5_tsunami_alarm_123.wav\n",
      "./calibration\\5_tsunami_alarm_123.wav\n",
      "./Dataset/danger\\1_danger_alarm_439.wav\n",
      "./calibration\\1_danger_alarm_439.wav\n",
      "./Dataset/fire\\2_fire_alarm_0.wav\n",
      "./calibration\\2_fire_alarm_0.wav\n",
      "./Dataset/fire\\2_fire_alarm_574.wav\n",
      "./calibration\\2_fire_alarm_574.wav\n",
      "./Dataset/gas\\3_gas_alarm_104.wav\n",
      "./calibration\\3_gas_alarm_104.wav\n",
      "./Dataset/danger\\1_danger_alarm_213.wav\n",
      "./calibration\\1_danger_alarm_213.wav\n",
      "./Dataset/tsunami\\5_tsunami_alarm_547.wav\n",
      "./calibration\\5_tsunami_alarm_547.wav\n",
      "./Dataset/danger\\1_danger_alarm_428.wav\n",
      "./calibration\\1_danger_alarm_428.wav\n",
      "./Dataset/danger\\1_danger_alarm_527.wav\n",
      "./calibration\\1_danger_alarm_527.wav\n",
      "./Dataset/fire\\2_fire_alarm_372.wav\n",
      "./calibration\\2_fire_alarm_372.wav\n",
      "./Dataset/non\\4_non_alarm_440.wav\n",
      "./calibration\\4_non_alarm_440.wav\n",
      "./Dataset/danger\\1_danger_alarm_534.wav\n",
      "./calibration\\1_danger_alarm_534.wav\n",
      "./Dataset/tsunami\\5_tsunami_alarm_305.wav\n",
      "./calibration\\5_tsunami_alarm_305.wav\n",
      "./Dataset/non\\4_non_alarm_240.wav\n",
      "./calibration\\4_non_alarm_240.wav\n",
      "./Dataset/fire\\2_fire_alarm_577.wav\n",
      "./calibration\\2_fire_alarm_577.wav\n",
      "./Dataset/tsunami\\5_tsunami_alarm_112.wav\n",
      "./calibration\\5_tsunami_alarm_112.wav\n",
      "./Dataset/danger\\1_danger_alarm_116.wav\n",
      "./calibration\\1_danger_alarm_116.wav\n",
      "./Dataset/fire\\2_fire_alarm_558.wav\n",
      "./calibration\\2_fire_alarm_558.wav\n",
      "./Dataset/danger\\1_danger_alarm_539.wav\n",
      "./calibration\\1_danger_alarm_539.wav\n",
      "./Dataset/danger\\1_danger_alarm_117.wav\n",
      "./calibration\\1_danger_alarm_117.wav\n",
      "./Dataset/fire\\2_fire_alarm_156.wav\n",
      "./calibration\\2_fire_alarm_156.wav\n",
      "./Dataset/gas\\3_gas_alarm_421.wav\n",
      "./calibration\\3_gas_alarm_421.wav\n",
      "./Dataset/danger\\1_danger_alarm_511.wav\n",
      "./calibration\\1_danger_alarm_511.wav\n",
      "./Dataset/gas\\3_gas_alarm_103.wav\n",
      "./calibration\\3_gas_alarm_103.wav\n",
      "./Dataset/danger\\1_danger_alarm_134.wav\n",
      "./calibration\\1_danger_alarm_134.wav\n",
      "./Dataset/fire\\2_fire_alarm_226.wav\n",
      "./calibration\\2_fire_alarm_226.wav\n",
      "./Dataset/tsunami\\5_tsunami_alarm_54.wav\n",
      "./calibration\\5_tsunami_alarm_54.wav\n",
      "./Dataset/non\\4_non_alarm_202.wav\n",
      "./calibration\\4_non_alarm_202.wav\n",
      "./Dataset/gas\\3_gas_alarm_478.wav\n",
      "./calibration\\3_gas_alarm_478.wav\n",
      "./Dataset/tsunami\\5_tsunami_alarm_156.wav\n",
      "./calibration\\5_tsunami_alarm_156.wav\n",
      "./Dataset/gas\\3_gas_alarm_392.wav\n",
      "./calibration\\3_gas_alarm_392.wav\n",
      "./Dataset/non\\4_non_alarm_476.wav\n",
      "./calibration\\4_non_alarm_476.wav\n",
      "./Dataset/danger\\1_danger_alarm_110.wav\n",
      "./calibration\\1_danger_alarm_110.wav\n",
      "./Dataset/fire\\2_fire_alarm_132.wav\n",
      "./calibration\\2_fire_alarm_132.wav\n",
      "./Dataset/gas\\3_gas_alarm_99.wav\n",
      "./calibration\\3_gas_alarm_99.wav\n",
      "./Dataset/fire\\2_fire_alarm_66.wav\n",
      "./calibration\\2_fire_alarm_66.wav\n",
      "./Dataset/danger\\1_danger_alarm_556.wav\n",
      "./calibration\\1_danger_alarm_556.wav\n",
      "./Dataset/non\\4_non_alarm_379.wav\n",
      "./calibration\\4_non_alarm_379.wav\n",
      "./Dataset/gas\\3_gas_alarm_303.wav\n",
      "./calibration\\3_gas_alarm_303.wav\n",
      "./Dataset/gas\\3_gas_alarm_95.wav\n",
      "./calibration\\3_gas_alarm_95.wav\n",
      "./Dataset/gas\\3_gas_alarm_355.wav\n",
      "./calibration\\3_gas_alarm_355.wav\n",
      "./Dataset/gas\\3_gas_alarm_599.wav\n",
      "./calibration\\3_gas_alarm_599.wav\n",
      "./Dataset/danger\\1_danger_alarm_145.wav\n",
      "./calibration\\1_danger_alarm_145.wav\n",
      "./Dataset/fire\\2_fire_alarm_83.wav\n",
      "./calibration\\2_fire_alarm_83.wav\n",
      "./Dataset/gas\\3_gas_alarm_405.wav\n",
      "./calibration\\3_gas_alarm_405.wav\n",
      "./Dataset/tsunami\\5_tsunami_alarm_189.wav\n",
      "./calibration\\5_tsunami_alarm_189.wav\n",
      "./Dataset/gas\\3_gas_alarm_35.wav\n",
      "./calibration\\3_gas_alarm_35.wav\n",
      "./Dataset/tsunami\\5_tsunami_alarm_288.wav\n",
      "./calibration\\5_tsunami_alarm_288.wav\n",
      "./Dataset/non\\4_non_alarm_226.wav\n",
      "./calibration\\4_non_alarm_226.wav\n",
      "./Dataset/tsunami\\5_tsunami_alarm_69.wav\n",
      "./calibration\\5_tsunami_alarm_69.wav\n",
      "./Dataset/non\\4_non_alarm_596.wav\n",
      "./calibration\\4_non_alarm_596.wav\n",
      "./Dataset/non\\4_non_alarm_597.wav\n",
      "./calibration\\4_non_alarm_597.wav\n",
      "./Dataset/gas\\3_gas_alarm_243.wav\n",
      "./calibration\\3_gas_alarm_243.wav\n",
      "./Dataset/tsunami\\5_tsunami_alarm_328.wav\n",
      "./calibration\\5_tsunami_alarm_328.wav\n",
      "./Dataset/danger\\1_danger_alarm_510.wav\n",
      "./calibration\\1_danger_alarm_510.wav\n",
      "./Dataset/fire\\2_fire_alarm_279.wav\n",
      "./calibration\\2_fire_alarm_279.wav\n",
      "./Dataset/danger\\1_danger_alarm_409.wav\n",
      "./calibration\\1_danger_alarm_409.wav\n",
      "./Dataset/fire\\2_fire_alarm_382.wav\n",
      "./calibration\\2_fire_alarm_382.wav\n",
      "./Dataset/tsunami\\5_tsunami_alarm_596.wav\n",
      "./calibration\\5_tsunami_alarm_596.wav\n",
      "./Dataset/non\\4_non_alarm_461.wav\n",
      "./calibration\\4_non_alarm_461.wav\n",
      "./Dataset/danger\\1_danger_alarm_393.wav\n",
      "./calibration\\1_danger_alarm_393.wav\n",
      "./Dataset/non\\4_non_alarm_71.wav\n",
      "./calibration\\4_non_alarm_71.wav\n",
      "./Dataset/non\\4_non_alarm_272.wav\n",
      "./calibration\\4_non_alarm_272.wav\n",
      "./Dataset/non\\4_non_alarm_418.wav\n",
      "./calibration\\4_non_alarm_418.wav\n",
      "./Dataset/fire\\2_fire_alarm_503.wav\n",
      "./calibration\\2_fire_alarm_503.wav\n",
      "./Dataset/non\\4_non_alarm_559.wav\n",
      "./calibration\\4_non_alarm_559.wav\n",
      "./Dataset/tsunami\\5_tsunami_alarm_245.wav\n",
      "./calibration\\5_tsunami_alarm_245.wav\n",
      "./Dataset/danger\\1_danger_alarm_94.wav\n",
      "./calibration\\1_danger_alarm_94.wav\n",
      "./Dataset/danger\\1_danger_alarm_267.wav\n",
      "./calibration\\1_danger_alarm_267.wav\n",
      "./Dataset/gas\\3_gas_alarm_49.wav\n",
      "./calibration\\3_gas_alarm_49.wav\n",
      "./Dataset/fire\\2_fire_alarm_29.wav\n",
      "./calibration\\2_fire_alarm_29.wav\n",
      "./Dataset/danger\\1_danger_alarm_292.wav\n",
      "./calibration\\1_danger_alarm_292.wav\n",
      "./Dataset/gas\\3_gas_alarm_28.wav\n",
      "./calibration\\3_gas_alarm_28.wav\n",
      "./Dataset/tsunami\\5_tsunami_alarm_518.wav\n",
      "./calibration\\5_tsunami_alarm_518.wav\n",
      "./Dataset/tsunami\\5_tsunami_alarm_462.wav\n",
      "./calibration\\5_tsunami_alarm_462.wav\n",
      "./Dataset/non\\4_non_alarm_265.wav\n",
      "./calibration\\4_non_alarm_265.wav\n",
      "./Dataset/danger\\1_danger_alarm_207.wav\n",
      "./calibration\\1_danger_alarm_207.wav\n",
      "./Dataset/non\\4_non_alarm_383.wav\n",
      "./calibration\\4_non_alarm_383.wav\n",
      "./Dataset/non\\4_non_alarm_390.wav\n",
      "./calibration\\4_non_alarm_390.wav\n",
      "./Dataset/non\\4_non_alarm_528.wav\n",
      "./calibration\\4_non_alarm_528.wav\n",
      "./Dataset/fire\\2_fire_alarm_229.wav\n",
      "./calibration\\2_fire_alarm_229.wav\n",
      "./Dataset/gas\\3_gas_alarm_454.wav\n",
      "./calibration\\3_gas_alarm_454.wav\n",
      "./Dataset/danger\\1_danger_alarm_162.wav\n",
      "./calibration\\1_danger_alarm_162.wav\n",
      "./Dataset/gas\\3_gas_alarm_133.wav\n",
      "./calibration\\3_gas_alarm_133.wav\n",
      "./Dataset/gas\\3_gas_alarm_87.wav\n",
      "./calibration\\3_gas_alarm_87.wav\n",
      "./Dataset/gas\\3_gas_alarm_272.wav\n",
      "./calibration\\3_gas_alarm_272.wav\n",
      "./Dataset/gas\\3_gas_alarm_560.wav\n",
      "./calibration\\3_gas_alarm_560.wav\n",
      "./Dataset/tsunami\\5_tsunami_alarm_22.wav\n",
      "./calibration\\5_tsunami_alarm_22.wav\n",
      "./Dataset/tsunami\\5_tsunami_alarm_106.wav\n",
      "./calibration\\5_tsunami_alarm_106.wav\n",
      "./Dataset/gas\\3_gas_alarm_54.wav\n",
      "./calibration\\3_gas_alarm_54.wav\n",
      "./Dataset/fire\\2_fire_alarm_14.wav\n",
      "./calibration\\2_fire_alarm_14.wav\n",
      "./Dataset/gas\\3_gas_alarm_521.wav\n",
      "./calibration\\3_gas_alarm_521.wav\n",
      "./Dataset/danger\\1_danger_alarm_507.wav\n",
      "./calibration\\1_danger_alarm_507.wav\n",
      "./Dataset/non\\4_non_alarm_523.wav\n",
      "./calibration\\4_non_alarm_523.wav\n",
      "./Dataset/non\\4_non_alarm_285.wav\n",
      "./calibration\\4_non_alarm_285.wav\n",
      "./Dataset/gas\\3_gas_alarm_497.wav\n",
      "./calibration\\3_gas_alarm_497.wav\n",
      "./Dataset/danger\\1_danger_alarm_490.wav\n",
      "./calibration\\1_danger_alarm_490.wav\n",
      "./Dataset/tsunami\\5_tsunami_alarm_302.wav\n",
      "./calibration\\5_tsunami_alarm_302.wav\n",
      "./Dataset/tsunami\\5_tsunami_alarm_394.wav\n",
      "./calibration\\5_tsunami_alarm_394.wav\n",
      "./Dataset/non\\4_non_alarm_180.wav\n",
      "./calibration\\4_non_alarm_180.wav\n",
      "./Dataset/gas\\3_gas_alarm_168.wav\n",
      "./calibration\\3_gas_alarm_168.wav\n",
      "./Dataset/non\\4_non_alarm_90.wav\n",
      "./calibration\\4_non_alarm_90.wav\n",
      "./Dataset/tsunami\\5_tsunami_alarm_571.wav\n",
      "./calibration\\5_tsunami_alarm_571.wav\n",
      "./Dataset/tsunami\\5_tsunami_alarm_53.wav\n",
      "./calibration\\5_tsunami_alarm_53.wav\n",
      "./Dataset/gas\\3_gas_alarm_51.wav\n",
      "./calibration\\3_gas_alarm_51.wav\n",
      "./Dataset/danger\\1_danger_alarm_269.wav\n",
      "./calibration\\1_danger_alarm_269.wav\n",
      "./Dataset/tsunami\\5_tsunami_alarm_565.wav\n",
      "./calibration\\5_tsunami_alarm_565.wav\n",
      "./Dataset/tsunami\\5_tsunami_alarm_315.wav\n",
      "./calibration\\5_tsunami_alarm_315.wav\n",
      "./Dataset/danger\\1_danger_alarm_445.wav\n",
      "./calibration\\1_danger_alarm_445.wav\n",
      "./Dataset/danger\\1_danger_alarm_97.wav\n",
      "./calibration\\1_danger_alarm_97.wav\n",
      "./Dataset/gas\\3_gas_alarm_354.wav\n",
      "./calibration\\3_gas_alarm_354.wav\n",
      "./Dataset/danger\\1_danger_alarm_291.wav\n",
      "./calibration\\1_danger_alarm_291.wav\n",
      "./Dataset/gas\\3_gas_alarm_147.wav\n",
      "./calibration\\3_gas_alarm_147.wav\n",
      "./Dataset/tsunami\\5_tsunami_alarm_532.wav\n",
      "./calibration\\5_tsunami_alarm_532.wav\n",
      "./Dataset/gas\\3_gas_alarm_63.wav\n",
      "./calibration\\3_gas_alarm_63.wav\n",
      "./Dataset/fire\\2_fire_alarm_258.wav\n",
      "./calibration\\2_fire_alarm_258.wav\n",
      "./Dataset/tsunami\\5_tsunami_alarm_534.wav\n",
      "./calibration\\5_tsunami_alarm_534.wav\n",
      "./Dataset/gas\\3_gas_alarm_150.wav\n",
      "./calibration\\3_gas_alarm_150.wav\n",
      "./Dataset/fire\\2_fire_alarm_171.wav\n",
      "./calibration\\2_fire_alarm_171.wav\n",
      "./Dataset/fire\\2_fire_alarm_248.wav\n",
      "./calibration\\2_fire_alarm_248.wav\n",
      "./Dataset/fire\\2_fire_alarm_210.wav\n",
      "./calibration\\2_fire_alarm_210.wav\n",
      "./Dataset/fire\\2_fire_alarm_228.wav\n",
      "./calibration\\2_fire_alarm_228.wav\n",
      "./Dataset/danger\\1_danger_alarm_248.wav\n",
      "./calibration\\1_danger_alarm_248.wav\n",
      "./Dataset/gas\\3_gas_alarm_286.wav\n",
      "./calibration\\3_gas_alarm_286.wav\n",
      "./Dataset/danger\\1_danger_alarm_154.wav\n",
      "./calibration\\1_danger_alarm_154.wav\n",
      "./Dataset/non\\4_non_alarm_11.wav\n",
      "./calibration\\4_non_alarm_11.wav\n",
      "./Dataset/non\\4_non_alarm_431.wav\n",
      "./calibration\\4_non_alarm_431.wav\n",
      "./Dataset/gas\\3_gas_alarm_291.wav\n",
      "./calibration\\3_gas_alarm_291.wav\n",
      "./Dataset/non\\4_non_alarm_425.wav\n",
      "./calibration\\4_non_alarm_425.wav\n",
      "./Dataset/danger\\1_danger_alarm_170.wav\n",
      "./calibration\\1_danger_alarm_170.wav\n",
      "./Dataset/danger\\1_danger_alarm_364.wav\n",
      "./calibration\\1_danger_alarm_364.wav\n",
      "./Dataset/fire\\2_fire_alarm_46.wav\n",
      "./calibration\\2_fire_alarm_46.wav\n",
      "./Dataset/danger\\1_danger_alarm_501.wav\n",
      "./calibration\\1_danger_alarm_501.wav\n",
      "./Dataset/non\\4_non_alarm_397.wav\n",
      "./calibration\\4_non_alarm_397.wav\n",
      "./Dataset/danger\\1_danger_alarm_358.wav\n",
      "./calibration\\1_danger_alarm_358.wav\n",
      "./Dataset/fire\\2_fire_alarm_134.wav\n",
      "./calibration\\2_fire_alarm_134.wav\n",
      "./Dataset/danger\\1_danger_alarm_483.wav\n",
      "./calibration\\1_danger_alarm_483.wav\n",
      "./Dataset/tsunami\\5_tsunami_alarm_296.wav\n",
      "./calibration\\5_tsunami_alarm_296.wav\n",
      "./Dataset/danger\\1_danger_alarm_11.wav\n",
      "./calibration\\1_danger_alarm_11.wav\n",
      "./Dataset/tsunami\\5_tsunami_alarm_429.wav\n",
      "./calibration\\5_tsunami_alarm_429.wav\n",
      "./Dataset/tsunami\\5_tsunami_alarm_476.wav\n",
      "./calibration\\5_tsunami_alarm_476.wav\n",
      "./Dataset/danger\\1_danger_alarm_153.wav\n",
      "./calibration\\1_danger_alarm_153.wav\n",
      "./Dataset/gas\\3_gas_alarm_143.wav\n",
      "./calibration\\3_gas_alarm_143.wav\n",
      "./Dataset/gas\\3_gas_alarm_176.wav\n",
      "./calibration\\3_gas_alarm_176.wav\n",
      "./Dataset/tsunami\\5_tsunami_alarm_552.wav\n",
      "./calibration\\5_tsunami_alarm_552.wav\n",
      "./Dataset/gas\\3_gas_alarm_52.wav\n",
      "./calibration\\3_gas_alarm_52.wav\n",
      "./Dataset/non\\4_non_alarm_89.wav\n",
      "./calibration\\4_non_alarm_89.wav\n",
      "./Dataset/danger\\1_danger_alarm_450.wav\n",
      "./calibration\\1_danger_alarm_450.wav\n",
      "./Dataset/non\\4_non_alarm_299.wav\n",
      "./calibration\\4_non_alarm_299.wav\n",
      "./Dataset/fire\\2_fire_alarm_280.wav\n",
      "./calibration\\2_fire_alarm_280.wav\n",
      "./Dataset/non\\4_non_alarm_382.wav\n",
      "./calibration\\4_non_alarm_382.wav\n",
      "./Dataset/non\\4_non_alarm_449.wav\n",
      "./calibration\\4_non_alarm_449.wav\n",
      "./Dataset/tsunami\\5_tsunami_alarm_427.wav\n",
      "./calibration\\5_tsunami_alarm_427.wav\n",
      "./Dataset/non\\4_non_alarm_441.wav\n",
      "./calibration\\4_non_alarm_441.wav\n",
      "./Dataset/danger\\1_danger_alarm_315.wav\n",
      "./calibration\\1_danger_alarm_315.wav\n",
      "./Dataset/non\\4_non_alarm_193.wav\n",
      "./calibration\\4_non_alarm_193.wav\n",
      "./Dataset/fire\\2_fire_alarm_18.wav\n",
      "./calibration\\2_fire_alarm_18.wav\n",
      "./Dataset/gas\\3_gas_alarm_257.wav\n",
      "./calibration\\3_gas_alarm_257.wav\n",
      "./Dataset/fire\\2_fire_alarm_179.wav\n",
      "./calibration\\2_fire_alarm_179.wav\n",
      "./Dataset/fire\\2_fire_alarm_254.wav\n",
      "./calibration\\2_fire_alarm_254.wav\n",
      "./Dataset/gas\\3_gas_alarm_246.wav\n",
      "./calibration\\3_gas_alarm_246.wav\n",
      "./Dataset/tsunami\\5_tsunami_alarm_334.wav\n",
      "./calibration\\5_tsunami_alarm_334.wav\n",
      "./Dataset/non\\4_non_alarm_69.wav\n",
      "./calibration\\4_non_alarm_69.wav\n",
      "./Dataset/tsunami\\5_tsunami_alarm_185.wav\n",
      "./calibration\\5_tsunami_alarm_185.wav\n",
      "./Dataset/non\\4_non_alarm_117.wav\n",
      "./calibration\\4_non_alarm_117.wav\n",
      "./Dataset/fire\\2_fire_alarm_123.wav\n",
      "./calibration\\2_fire_alarm_123.wav\n",
      "./Dataset/danger\\1_danger_alarm_552.wav\n",
      "./calibration\\1_danger_alarm_552.wav\n",
      "./Dataset/danger\\1_danger_alarm_518.wav\n",
      "./calibration\\1_danger_alarm_518.wav\n",
      "./Dataset/tsunami\\5_tsunami_alarm_214.wav\n",
      "./calibration\\5_tsunami_alarm_214.wav\n",
      "./Dataset/danger\\1_danger_alarm_540.wav\n",
      "./calibration\\1_danger_alarm_540.wav\n",
      "./Dataset/fire\\2_fire_alarm_521.wav\n",
      "./calibration\\2_fire_alarm_521.wav\n",
      "./Dataset/danger\\1_danger_alarm_332.wav\n",
      "./calibration\\1_danger_alarm_332.wav\n",
      "./Dataset/gas\\3_gas_alarm_395.wav\n",
      "./calibration\\3_gas_alarm_395.wav\n",
      "./Dataset/non\\4_non_alarm_420.wav\n",
      "./calibration\\4_non_alarm_420.wav\n",
      "./Dataset/fire\\2_fire_alarm_446.wav\n",
      "./calibration\\2_fire_alarm_446.wav\n",
      "./Dataset/non\\4_non_alarm_23.wav\n",
      "./calibration\\4_non_alarm_23.wav\n",
      "./Dataset/non\\4_non_alarm_472.wav\n",
      "./calibration\\4_non_alarm_472.wav\n",
      "./Dataset/danger\\1_danger_alarm_193.wav\n",
      "./calibration\\1_danger_alarm_193.wav\n",
      "./Dataset/fire\\2_fire_alarm_502.wav\n",
      "./calibration\\2_fire_alarm_502.wav\n",
      "./Dataset/tsunami\\5_tsunami_alarm_44.wav\n",
      "./calibration\\5_tsunami_alarm_44.wav\n",
      "./Dataset/gas\\3_gas_alarm_357.wav\n",
      "./calibration\\3_gas_alarm_357.wav\n",
      "./Dataset/tsunami\\5_tsunami_alarm_590.wav\n",
      "./calibration\\5_tsunami_alarm_590.wav\n",
      "./Dataset/gas\\3_gas_alarm_20.wav\n",
      "./calibration\\3_gas_alarm_20.wav\n",
      "./Dataset/non\\4_non_alarm_322.wav\n",
      "./calibration\\4_non_alarm_322.wav\n",
      "./Dataset/fire\\2_fire_alarm_296.wav\n",
      "./calibration\\2_fire_alarm_296.wav\n",
      "./Dataset/danger\\1_danger_alarm_449.wav\n",
      "./calibration\\1_danger_alarm_449.wav\n",
      "./Dataset/tsunami\\5_tsunami_alarm_169.wav\n",
      "./calibration\\5_tsunami_alarm_169.wav\n",
      "./Dataset/fire\\2_fire_alarm_216.wav\n",
      "./calibration\\2_fire_alarm_216.wav\n",
      "./Dataset/tsunami\\5_tsunami_alarm_480.wav\n",
      "./calibration\\5_tsunami_alarm_480.wav\n",
      "./Dataset/non\\4_non_alarm_499.wav\n",
      "./calibration\\4_non_alarm_499.wav\n",
      "./Dataset/fire\\2_fire_alarm_544.wav\n",
      "./calibration\\2_fire_alarm_544.wav\n",
      "./Dataset/tsunami\\5_tsunami_alarm_400.wav\n",
      "./calibration\\5_tsunami_alarm_400.wav\n",
      "./Dataset/fire\\2_fire_alarm_370.wav\n",
      "./calibration\\2_fire_alarm_370.wav\n",
      "./Dataset/danger\\1_danger_alarm_403.wav\n",
      "./calibration\\1_danger_alarm_403.wav\n",
      "./Dataset/danger\\1_danger_alarm_84.wav\n",
      "./calibration\\1_danger_alarm_84.wav\n",
      "./Dataset/fire\\2_fire_alarm_106.wav\n",
      "./calibration\\2_fire_alarm_106.wav\n",
      "./Dataset/fire\\2_fire_alarm_275.wav\n",
      "./calibration\\2_fire_alarm_275.wav\n",
      "./Dataset/non\\4_non_alarm_64.wav\n",
      "./calibration\\4_non_alarm_64.wav\n",
      "./Dataset/tsunami\\5_tsunami_alarm_75.wav\n",
      "./calibration\\5_tsunami_alarm_75.wav\n"
     ]
    }
   ],
   "source": [
    "try:\n",
    "    for file in X_test:\n",
    "        src = file\n",
    "        print(src)\n",
    "        dst = os.path.join(\"./calibration\", src.split(\"\\\\\")[-1])\n",
    "        print(dst)\n",
    "        shutil.copy(src=src, dst=dst)\n",
    "except FileNotFoundError as e:\n",
    "    print(f\"파일경로 오류\")\n",
    "    print(e)"
   ]
  },
  {
   "cell_type": "code",
   "execution_count": 12,
   "id": "676b14bb",
   "metadata": {},
   "outputs": [],
   "source": [
    "audio_preprocessor = AudioPreprocessor(\n",
    "    sample_rate=SAMPLE_RATE,\n",
    "    window_size=WINDOW_SIZE,\n",
    "    hop_size=HOP_SIZE,\n",
    "    mel_bins=MEL_BINS,\n",
    "    fmin=FMIN,\n",
    "    fmax=FMAX\n",
    ")\n",
    "\n",
    "# Dataset 객체\n",
    "train_dataset = AudioDataset(X_train, y_train, audio_preprocessor, training=True) # X 독립변수, y 종속변수\n",
    "val_dataset   = AudioDataset(X_val,   y_val, audio_preprocessor, training=False)\n",
    "test_dataset  = AudioDataset(X_test,  y_test, audio_preprocessor, training=False)\n",
    "\n",
    "# 각각의 데이터셋 로드\n",
    "train_loader = DataLoader(train_dataset, batch_size=BATCH_SIZE, shuffle=True)\n",
    "val_loader   = DataLoader(val_dataset,   batch_size=BATCH_SIZE, shuffle=False)\n",
    "test_loader  = DataLoader(test_dataset,  batch_size=BATCH_SIZE, shuffle=False)"
   ]
  },
  {
   "cell_type": "code",
   "execution_count": 13,
   "id": "e26065d9",
   "metadata": {},
   "outputs": [
    {
     "name": "stdout",
     "output_type": "stream",
     "text": [
      "Inputs: torch.Size([32, 1, 101, 64])\n",
      "Labels: torch.Size([32, 5])\n"
     ]
    }
   ],
   "source": [
    "train_iter = iter(train_loader)\n",
    "inputs, labels = next(train_iter)\n",
    "\n",
    "print(\"Inputs:\", inputs.shape)\n",
    "print(\"Labels:\", labels.shape)"
   ]
  },
  {
   "cell_type": "code",
   "execution_count": 14,
   "id": "a6a2e489",
   "metadata": {},
   "outputs": [
    {
     "name": "stdout",
     "output_type": "stream",
     "text": [
      "Inputs: torch.Size([32, 1, 101, 64])\n",
      "Labels: torch.Size([32, 5])\n"
     ]
    }
   ],
   "source": [
    "val_iter = iter(val_loader)\n",
    "inputs, labels = next(val_iter)\n",
    "\n",
    "print(\"Inputs:\", inputs.shape)\n",
    "print(\"Labels:\", labels.shape)"
   ]
  },
  {
   "cell_type": "code",
   "execution_count": 15,
   "id": "a44956d0",
   "metadata": {},
   "outputs": [
    {
     "name": "stdout",
     "output_type": "stream",
     "text": [
      "Inputs: torch.Size([32, 1, 101, 64])\n",
      "Labels: torch.Size([32, 5])\n"
     ]
    }
   ],
   "source": [
    "test_iter = iter(test_loader)\n",
    "inputs, labels = next(test_iter)\n",
    "\n",
    "print(\"Inputs:\", inputs.shape)\n",
    "print(\"Labels:\", labels.shape)"
   ]
  },
  {
   "cell_type": "code",
   "execution_count": 16,
   "id": "0f74d6a3",
   "metadata": {},
   "outputs": [],
   "source": [
    "# 모델 로드\n",
    "model = Cnn14(\n",
    "    classes_num=527 # 분류할 클래스 숫자(원본 모델의 클래스 숫자)\n",
    ")\n",
    "\n",
    " # 사전학습된 가중치 로드\n",
    "checkpoint = torch.load(CHECKPOINT, map_location=DEVICE, weights_only=False)\n",
    "model.load_state_dict(checkpoint['model'], strict=False) # 체크포인트에서 model 가중치만 가져옴\n",
    "\n",
    "# 마지막 완전연결층을 학습할 클래스 개수로 수정 (527 -> CLASS_NUM)\n",
    "model.fc_audioset = torch.nn.Linear(model.fc_audioset.in_features, CLASS_NUM) \n",
    "\n",
    "model = model.to(DEVICE) # gpu로 전달"
   ]
  },
  {
   "cell_type": "code",
   "execution_count": 17,
   "id": "0f3ec65c",
   "metadata": {},
   "outputs": [
    {
     "name": "stdout",
     "output_type": "stream",
     "text": [
      "Cnn14(\n",
      "  (bn0): BatchNorm2d(64, eps=1e-05, momentum=0.1, affine=True, track_running_stats=True)\n",
      "  (conv_block1): ConvBlock(\n",
      "    (conv1): Conv2d(1, 64, kernel_size=(3, 3), stride=(1, 1), padding=(1, 1), bias=False)\n",
      "    (conv2): Conv2d(64, 64, kernel_size=(3, 3), stride=(1, 1), padding=(1, 1), bias=False)\n",
      "    (bn1): BatchNorm2d(64, eps=1e-05, momentum=0.1, affine=True, track_running_stats=True)\n",
      "    (bn2): BatchNorm2d(64, eps=1e-05, momentum=0.1, affine=True, track_running_stats=True)\n",
      "  )\n",
      "  (conv_block2): ConvBlock(\n",
      "    (conv1): Conv2d(64, 128, kernel_size=(3, 3), stride=(1, 1), padding=(1, 1), bias=False)\n",
      "    (conv2): Conv2d(128, 128, kernel_size=(3, 3), stride=(1, 1), padding=(1, 1), bias=False)\n",
      "    (bn1): BatchNorm2d(128, eps=1e-05, momentum=0.1, affine=True, track_running_stats=True)\n",
      "    (bn2): BatchNorm2d(128, eps=1e-05, momentum=0.1, affine=True, track_running_stats=True)\n",
      "  )\n",
      "  (conv_block3): ConvBlock(\n",
      "    (conv1): Conv2d(128, 256, kernel_size=(3, 3), stride=(1, 1), padding=(1, 1), bias=False)\n",
      "    (conv2): Conv2d(256, 256, kernel_size=(3, 3), stride=(1, 1), padding=(1, 1), bias=False)\n",
      "    (bn1): BatchNorm2d(256, eps=1e-05, momentum=0.1, affine=True, track_running_stats=True)\n",
      "    (bn2): BatchNorm2d(256, eps=1e-05, momentum=0.1, affine=True, track_running_stats=True)\n",
      "  )\n",
      "  (conv_block4): ConvBlock(\n",
      "    (conv1): Conv2d(256, 512, kernel_size=(3, 3), stride=(1, 1), padding=(1, 1), bias=False)\n",
      "    (conv2): Conv2d(512, 512, kernel_size=(3, 3), stride=(1, 1), padding=(1, 1), bias=False)\n",
      "    (bn1): BatchNorm2d(512, eps=1e-05, momentum=0.1, affine=True, track_running_stats=True)\n",
      "    (bn2): BatchNorm2d(512, eps=1e-05, momentum=0.1, affine=True, track_running_stats=True)\n",
      "  )\n",
      "  (conv_block5): ConvBlock(\n",
      "    (conv1): Conv2d(512, 1024, kernel_size=(3, 3), stride=(1, 1), padding=(1, 1), bias=False)\n",
      "    (conv2): Conv2d(1024, 1024, kernel_size=(3, 3), stride=(1, 1), padding=(1, 1), bias=False)\n",
      "    (bn1): BatchNorm2d(1024, eps=1e-05, momentum=0.1, affine=True, track_running_stats=True)\n",
      "    (bn2): BatchNorm2d(1024, eps=1e-05, momentum=0.1, affine=True, track_running_stats=True)\n",
      "  )\n",
      "  (conv_block6): ConvBlock(\n",
      "    (conv1): Conv2d(1024, 2048, kernel_size=(3, 3), stride=(1, 1), padding=(1, 1), bias=False)\n",
      "    (conv2): Conv2d(2048, 2048, kernel_size=(3, 3), stride=(1, 1), padding=(1, 1), bias=False)\n",
      "    (bn1): BatchNorm2d(2048, eps=1e-05, momentum=0.1, affine=True, track_running_stats=True)\n",
      "    (bn2): BatchNorm2d(2048, eps=1e-05, momentum=0.1, affine=True, track_running_stats=True)\n",
      "  )\n",
      "  (fc1): Linear(in_features=2048, out_features=2048, bias=True)\n",
      "  (fc_audioset): Linear(in_features=2048, out_features=5, bias=True)\n",
      ")\n"
     ]
    }
   ],
   "source": [
    "'''\n",
    "최종적으로 아래와 같은 모델이 로드됨\n",
    "\n",
    "Cnn14(\n",
    "  ---------------------------------------------------------------------------------------------\n",
    "  # 배치정규화 계층\n",
    "  # 각각의 미니배치마다 평균과 분산을 이용하여 통계적인 배치값를 사용하여 지역최솟값을 방지\n",
    "  (bn0): BatchNorm2d(64, eps=1e-05, momentum=0.1, affine=True, track_running_stats=True)\n",
    "  ---------------------------------------------------------------------------------------------\n",
    "  # 컨볼루션 계층\n",
    "  (conv_block1): ConvBlock(\n",
    "    (conv1): Conv2d(1, 64, kernel_size=(3, 3), stride=(1, 1), padding=(1, 1), bias=False)\n",
    "    (conv2): Conv2d(64, 64, kernel_size=(3, 3), stride=(1, 1), padding=(1, 1), bias=False)\n",
    "    (bn1): BatchNorm2d(64, eps=1e-05, momentum=0.1, affine=True, track_running_stats=True)\n",
    "    (bn2): BatchNorm2d(64, eps=1e-05, momentum=0.1, affine=True, track_running_stats=True)\n",
    "  )\n",
    "  (conv_block2): ConvBlock(\n",
    "    (conv1): Conv2d(64, 128, kernel_size=(3, 3), stride=(1, 1), padding=(1, 1), bias=False)\n",
    "    (conv2): Conv2d(128, 128, kernel_size=(3, 3), stride=(1, 1), padding=(1, 1), bias=False)\n",
    "    (bn1): BatchNorm2d(128, eps=1e-05, momentum=0.1, affine=True, track_running_stats=True)\n",
    "    (bn2): BatchNorm2d(128, eps=1e-05, momentum=0.1, affine=True, track_running_stats=True)\n",
    "  )\n",
    "  (conv_block3): ConvBlock(\n",
    "    (conv1): Conv2d(128, 256, kernel_size=(3, 3), stride=(1, 1), padding=(1, 1), bias=False)\n",
    "    (conv2): Conv2d(256, 256, kernel_size=(3, 3), stride=(1, 1), padding=(1, 1), bias=False)\n",
    "    (bn1): BatchNorm2d(256, eps=1e-05, momentum=0.1, affine=True, track_running_stats=True)\n",
    "    (bn2): BatchNorm2d(256, eps=1e-05, momentum=0.1, affine=True, track_running_stats=True)\n",
    "  )\n",
    "  (conv_block4): ConvBlock(\n",
    "    (conv1): Conv2d(256, 512, kernel_size=(3, 3), stride=(1, 1), padding=(1, 1), bias=False)\n",
    "    (conv2): Conv2d(512, 512, kernel_size=(3, 3), stride=(1, 1), padding=(1, 1), bias=False)\n",
    "    (bn1): BatchNorm2d(512, eps=1e-05, momentum=0.1, affine=True, track_running_stats=True)\n",
    "    (bn2): BatchNorm2d(512, eps=1e-05, momentum=0.1, affine=True, track_running_stats=True)\n",
    "  )\n",
    "  (conv_block5): ConvBlock(\n",
    "    (conv1): Conv2d(512, 1024, kernel_size=(3, 3), stride=(1, 1), padding=(1, 1), bias=False)\n",
    "    (conv2): Conv2d(1024, 1024, kernel_size=(3, 3), stride=(1, 1), padding=(1, 1), bias=False)\n",
    "    (bn1): BatchNorm2d(1024, eps=1e-05, momentum=0.1, affine=True, track_running_stats=True)\n",
    "    (bn2): BatchNorm2d(1024, eps=1e-05, momentum=0.1, affine=True, track_running_stats=True)\n",
    "  )\n",
    "  (conv_block6): ConvBlock(\n",
    "    (conv1): Conv2d(1024, 2048, kernel_size=(3, 3), stride=(1, 1), padding=(1, 1), bias=False)\n",
    "    (conv2): Conv2d(2048, 2048, kernel_size=(3, 3), stride=(1, 1), padding=(1, 1), bias=False)\n",
    "    (bn1): BatchNorm2d(2048, eps=1e-05, momentum=0.1, affine=True, track_running_stats=True)\n",
    "    (bn2): BatchNorm2d(2048, eps=1e-05, momentum=0.1, affine=True, track_running_stats=True)\n",
    "  )\n",
    "  ---------------------------------------------------------------------------------------------\n",
    "  # 완전연결 계층\n",
    "  (fc1): Linear(in_features=2048, out_features=2048, bias=True)\n",
    "  (fc_audioset): Linear(in_features=2048, out_features=5, bias=True)\n",
    "  ---------------------------------------------------------------------------------------------\n",
    "\n",
    "  배치정규화 1층 + 컨볼루션 6*4 + 완전연결층 2 총 27개의 레이어\n",
    ")\n",
    "'''\n",
    "print(model)"
   ]
  },
  {
   "cell_type": "code",
   "execution_count": 18,
   "id": "39da32cd",
   "metadata": {},
   "outputs": [],
   "source": [
    "criterion = nn.BCELoss() # 다중 라벨 이진교차엔트로피 손실함수\n",
    "optimizer = optim.Adam(model.parameters(), lr=LEARNING_RATE) # Adam 최적화함수"
   ]
  },
  {
   "cell_type": "code",
   "execution_count": 19,
   "id": "cbc64005",
   "metadata": {},
   "outputs": [
    {
     "name": "stdout",
     "output_type": "stream",
     "text": [
      "\n",
      "Epoch[1/20]\n"
     ]
    },
    {
     "name": "stderr",
     "output_type": "stream",
     "text": [
      "학습중: 100%|██████████| 75/75 [00:06<00:00, 11.21it/s]\n"
     ]
    },
    {
     "name": "stdout",
     "output_type": "stream",
     "text": [
      "Train Loss: 0.5134, Accuracy: 0.0779"
     ]
    },
    {
     "name": "stderr",
     "output_type": "stream",
     "text": [
      "검증중: 100%|██████████| 10/10 [00:00<00:00, 23.36it/s]\n"
     ]
    },
    {
     "name": "stdout",
     "output_type": "stream",
     "text": [
      "Validation Loss: 0.3157, Accuracy: 0.5100\n",
      "\n",
      "Epoch[2/20]\n"
     ]
    },
    {
     "name": "stderr",
     "output_type": "stream",
     "text": [
      "학습중: 100%|██████████| 75/75 [00:06<00:00, 11.77it/s]\n"
     ]
    },
    {
     "name": "stdout",
     "output_type": "stream",
     "text": [
      "Train Loss: 0.1879, Accuracy: 0.6983"
     ]
    },
    {
     "name": "stderr",
     "output_type": "stream",
     "text": [
      "검증중: 100%|██████████| 10/10 [00:00<00:00, 23.67it/s]\n"
     ]
    },
    {
     "name": "stdout",
     "output_type": "stream",
     "text": [
      "Validation Loss: 0.0617, Accuracy: 0.9500\n",
      "\n",
      "Epoch[3/20]\n"
     ]
    },
    {
     "name": "stderr",
     "output_type": "stream",
     "text": [
      "학습중: 100%|██████████| 75/75 [00:06<00:00, 11.77it/s]\n"
     ]
    },
    {
     "name": "stdout",
     "output_type": "stream",
     "text": [
      "Train Loss: 0.0923, Accuracy: 0.8683"
     ]
    },
    {
     "name": "stderr",
     "output_type": "stream",
     "text": [
      "검증중: 100%|██████████| 10/10 [00:00<00:00, 24.20it/s]\n"
     ]
    },
    {
     "name": "stdout",
     "output_type": "stream",
     "text": [
      "Validation Loss: 0.0258, Accuracy: 0.9800\n",
      "\n",
      "Epoch[4/20]\n"
     ]
    },
    {
     "name": "stderr",
     "output_type": "stream",
     "text": [
      "학습중: 100%|██████████| 75/75 [00:06<00:00, 11.82it/s]\n"
     ]
    },
    {
     "name": "stdout",
     "output_type": "stream",
     "text": [
      "Train Loss: 0.0626, Accuracy: 0.9117"
     ]
    },
    {
     "name": "stderr",
     "output_type": "stream",
     "text": [
      "검증중: 100%|██████████| 10/10 [00:00<00:00, 24.17it/s]\n"
     ]
    },
    {
     "name": "stdout",
     "output_type": "stream",
     "text": [
      "Validation Loss: 0.0142, Accuracy: 0.9867\n",
      "\n",
      "Epoch[5/20]\n"
     ]
    },
    {
     "name": "stderr",
     "output_type": "stream",
     "text": [
      "학습중: 100%|██████████| 75/75 [00:06<00:00, 11.68it/s]\n"
     ]
    },
    {
     "name": "stdout",
     "output_type": "stream",
     "text": [
      "Train Loss: 0.0519, Accuracy: 0.9275"
     ]
    },
    {
     "name": "stderr",
     "output_type": "stream",
     "text": [
      "검증중: 100%|██████████| 10/10 [00:00<00:00, 24.05it/s]\n"
     ]
    },
    {
     "name": "stdout",
     "output_type": "stream",
     "text": [
      "Validation Loss: 0.0097, Accuracy: 0.9867\n",
      "\n",
      "Epoch[6/20]\n"
     ]
    },
    {
     "name": "stderr",
     "output_type": "stream",
     "text": [
      "학습중: 100%|██████████| 75/75 [00:06<00:00, 11.79it/s]\n"
     ]
    },
    {
     "name": "stdout",
     "output_type": "stream",
     "text": [
      "Train Loss: 0.0429, Accuracy: 0.9392"
     ]
    },
    {
     "name": "stderr",
     "output_type": "stream",
     "text": [
      "검증중: 100%|██████████| 10/10 [00:00<00:00, 23.96it/s]\n"
     ]
    },
    {
     "name": "stdout",
     "output_type": "stream",
     "text": [
      "Validation Loss: 0.0069, Accuracy: 0.9900\n",
      "\n",
      "Epoch[7/20]\n"
     ]
    },
    {
     "name": "stderr",
     "output_type": "stream",
     "text": [
      "학습중: 100%|██████████| 75/75 [00:06<00:00, 11.88it/s]\n"
     ]
    },
    {
     "name": "stdout",
     "output_type": "stream",
     "text": [
      "Train Loss: 0.0358, Accuracy: 0.9508"
     ]
    },
    {
     "name": "stderr",
     "output_type": "stream",
     "text": [
      "검증중: 100%|██████████| 10/10 [00:00<00:00, 24.43it/s]\n"
     ]
    },
    {
     "name": "stdout",
     "output_type": "stream",
     "text": [
      "Validation Loss: 0.0072, Accuracy: 0.9867\n",
      "\n",
      "Epoch[8/20]\n"
     ]
    },
    {
     "name": "stderr",
     "output_type": "stream",
     "text": [
      "학습중: 100%|██████████| 75/75 [00:06<00:00, 11.89it/s]\n"
     ]
    },
    {
     "name": "stdout",
     "output_type": "stream",
     "text": [
      "Train Loss: 0.0305, Accuracy: 0.9625"
     ]
    },
    {
     "name": "stderr",
     "output_type": "stream",
     "text": [
      "검증중: 100%|██████████| 10/10 [00:00<00:00, 25.55it/s]\n"
     ]
    },
    {
     "name": "stdout",
     "output_type": "stream",
     "text": [
      "Validation Loss: 0.0041, Accuracy: 0.9933\n",
      "\n",
      "Epoch[9/20]\n"
     ]
    },
    {
     "name": "stderr",
     "output_type": "stream",
     "text": [
      "학습중: 100%|██████████| 75/75 [00:06<00:00, 11.83it/s]\n"
     ]
    },
    {
     "name": "stdout",
     "output_type": "stream",
     "text": [
      "Train Loss: 0.0333, Accuracy: 0.9533"
     ]
    },
    {
     "name": "stderr",
     "output_type": "stream",
     "text": [
      "검증중: 100%|██████████| 10/10 [00:00<00:00, 24.42it/s]\n"
     ]
    },
    {
     "name": "stdout",
     "output_type": "stream",
     "text": [
      "Validation Loss: 0.0045, Accuracy: 0.9933\n",
      "\n",
      "Epoch[10/20]\n"
     ]
    },
    {
     "name": "stderr",
     "output_type": "stream",
     "text": [
      "학습중: 100%|██████████| 75/75 [00:06<00:00, 11.47it/s]\n"
     ]
    },
    {
     "name": "stdout",
     "output_type": "stream",
     "text": [
      "Train Loss: 0.0227, Accuracy: 0.9688"
     ]
    },
    {
     "name": "stderr",
     "output_type": "stream",
     "text": [
      "검증중: 100%|██████████| 10/10 [00:00<00:00, 24.33it/s]\n"
     ]
    },
    {
     "name": "stdout",
     "output_type": "stream",
     "text": [
      "Validation Loss: 0.0041, Accuracy: 0.9933\n",
      "\n",
      "Epoch[11/20]\n"
     ]
    },
    {
     "name": "stderr",
     "output_type": "stream",
     "text": [
      "학습중: 100%|██████████| 75/75 [00:06<00:00, 11.91it/s]\n"
     ]
    },
    {
     "name": "stdout",
     "output_type": "stream",
     "text": [
      "Train Loss: 0.0243, Accuracy: 0.9671"
     ]
    },
    {
     "name": "stderr",
     "output_type": "stream",
     "text": [
      "검증중: 100%|██████████| 10/10 [00:00<00:00, 23.14it/s]\n"
     ]
    },
    {
     "name": "stdout",
     "output_type": "stream",
     "text": [
      "Validation Loss: 0.0029, Accuracy: 0.9933\n",
      "\n",
      "Epoch[12/20]\n"
     ]
    },
    {
     "name": "stderr",
     "output_type": "stream",
     "text": [
      "학습중: 100%|██████████| 75/75 [00:06<00:00, 11.89it/s]\n"
     ]
    },
    {
     "name": "stdout",
     "output_type": "stream",
     "text": [
      "Train Loss: 0.0236, Accuracy: 0.9712"
     ]
    },
    {
     "name": "stderr",
     "output_type": "stream",
     "text": [
      "검증중: 100%|██████████| 10/10 [00:00<00:00, 24.11it/s]\n"
     ]
    },
    {
     "name": "stdout",
     "output_type": "stream",
     "text": [
      "Validation Loss: 0.0019, Accuracy: 0.9967\n",
      "\n",
      "Epoch[13/20]\n"
     ]
    },
    {
     "name": "stderr",
     "output_type": "stream",
     "text": [
      "학습중: 100%|██████████| 75/75 [00:06<00:00, 11.85it/s]\n"
     ]
    },
    {
     "name": "stdout",
     "output_type": "stream",
     "text": [
      "Train Loss: 0.0177, Accuracy: 0.9775"
     ]
    },
    {
     "name": "stderr",
     "output_type": "stream",
     "text": [
      "검증중: 100%|██████████| 10/10 [00:00<00:00, 23.78it/s]\n"
     ]
    },
    {
     "name": "stdout",
     "output_type": "stream",
     "text": [
      "Validation Loss: 0.0020, Accuracy: 0.9967\n",
      "\n",
      "Epoch[14/20]\n"
     ]
    },
    {
     "name": "stderr",
     "output_type": "stream",
     "text": [
      "학습중: 100%|██████████| 75/75 [00:06<00:00, 11.84it/s]\n"
     ]
    },
    {
     "name": "stdout",
     "output_type": "stream",
     "text": [
      "Train Loss: 0.0192, Accuracy: 0.9762"
     ]
    },
    {
     "name": "stderr",
     "output_type": "stream",
     "text": [
      "검증중: 100%|██████████| 10/10 [00:00<00:00, 23.81it/s]\n"
     ]
    },
    {
     "name": "stdout",
     "output_type": "stream",
     "text": [
      "Validation Loss: 0.0010, Accuracy: 1.0000\n",
      "\n",
      "Epoch[15/20]\n"
     ]
    },
    {
     "name": "stderr",
     "output_type": "stream",
     "text": [
      "학습중: 100%|██████████| 75/75 [00:06<00:00, 11.83it/s]\n"
     ]
    },
    {
     "name": "stdout",
     "output_type": "stream",
     "text": [
      "Train Loss: 0.0197, Accuracy: 0.9750"
     ]
    },
    {
     "name": "stderr",
     "output_type": "stream",
     "text": [
      "검증중: 100%|██████████| 10/10 [00:00<00:00, 24.08it/s]\n"
     ]
    },
    {
     "name": "stdout",
     "output_type": "stream",
     "text": [
      "Validation Loss: 0.0013, Accuracy: 1.0000\n",
      "\n",
      "Epoch[16/20]\n"
     ]
    },
    {
     "name": "stderr",
     "output_type": "stream",
     "text": [
      "학습중: 100%|██████████| 75/75 [00:06<00:00, 11.87it/s]\n"
     ]
    },
    {
     "name": "stdout",
     "output_type": "stream",
     "text": [
      "Train Loss: 0.0140, Accuracy: 0.9812"
     ]
    },
    {
     "name": "stderr",
     "output_type": "stream",
     "text": [
      "검증중: 100%|██████████| 10/10 [00:00<00:00, 23.94it/s]\n"
     ]
    },
    {
     "name": "stdout",
     "output_type": "stream",
     "text": [
      "Validation Loss: 0.0009, Accuracy: 1.0000\n",
      "\n",
      "Epoch[17/20]\n"
     ]
    },
    {
     "name": "stderr",
     "output_type": "stream",
     "text": [
      "학습중: 100%|██████████| 75/75 [00:06<00:00, 11.86it/s]\n"
     ]
    },
    {
     "name": "stdout",
     "output_type": "stream",
     "text": [
      "Train Loss: 0.0169, Accuracy: 0.9800"
     ]
    },
    {
     "name": "stderr",
     "output_type": "stream",
     "text": [
      "검증중: 100%|██████████| 10/10 [00:00<00:00, 24.34it/s]\n"
     ]
    },
    {
     "name": "stdout",
     "output_type": "stream",
     "text": [
      "Validation Loss: 0.0013, Accuracy: 1.0000\n",
      "\n",
      "Epoch[18/20]\n"
     ]
    },
    {
     "name": "stderr",
     "output_type": "stream",
     "text": [
      "학습중: 100%|██████████| 75/75 [00:06<00:00, 11.89it/s]\n"
     ]
    },
    {
     "name": "stdout",
     "output_type": "stream",
     "text": [
      "Train Loss: 0.0168, Accuracy: 0.9779"
     ]
    },
    {
     "name": "stderr",
     "output_type": "stream",
     "text": [
      "검증중: 100%|██████████| 10/10 [00:00<00:00, 23.41it/s]\n"
     ]
    },
    {
     "name": "stdout",
     "output_type": "stream",
     "text": [
      "Validation Loss: 0.0008, Accuracy: 1.0000\n",
      "\n",
      "Epoch[19/20]\n"
     ]
    },
    {
     "name": "stderr",
     "output_type": "stream",
     "text": [
      "학습중: 100%|██████████| 75/75 [00:06<00:00, 11.91it/s]\n"
     ]
    },
    {
     "name": "stdout",
     "output_type": "stream",
     "text": [
      "Train Loss: 0.0174, Accuracy: 0.9779"
     ]
    },
    {
     "name": "stderr",
     "output_type": "stream",
     "text": [
      "검증중: 100%|██████████| 10/10 [00:00<00:00, 24.08it/s]\n"
     ]
    },
    {
     "name": "stdout",
     "output_type": "stream",
     "text": [
      "Validation Loss: 0.0007, Accuracy: 1.0000\n",
      "\n",
      "Epoch[20/20]\n"
     ]
    },
    {
     "name": "stderr",
     "output_type": "stream",
     "text": [
      "학습중: 100%|██████████| 75/75 [00:06<00:00, 11.89it/s]\n"
     ]
    },
    {
     "name": "stdout",
     "output_type": "stream",
     "text": [
      "Train Loss: 0.0088, Accuracy: 0.9904"
     ]
    },
    {
     "name": "stderr",
     "output_type": "stream",
     "text": [
      "검증중: 100%|██████████| 10/10 [00:00<00:00, 23.94it/s]\n"
     ]
    },
    {
     "name": "stdout",
     "output_type": "stream",
     "text": [
      "Validation Loss: 0.0007, Accuracy: 1.0000\n"
     ]
    }
   ],
   "source": [
    "# 학습 루프\n",
    "best_val_accuracy = 0.0\n",
    "\n",
    "for epoch in range(EPOCHS):\n",
    "    print(f\"\\nEpoch[{epoch+1}/{EPOCHS}]\")\n",
    "\n",
    "    # 학습\n",
    "    train_loss, train_acc = train_epoch(model=model, loader=train_loader, optimizer=optimizer, criterion=criterion, device=DEVICE)\n",
    "    print(f\"Train Loss: {train_loss:.4f}, Accuracy: {train_acc:.4f}\", end=\"\")\n",
    "\n",
    "    # 검증\n",
    "    val_loss, val_acc = validate(model=model, loader=val_loader, criterion=criterion, device=DEVICE)\n",
    "    print(f\"Validation Loss: {val_loss:.4f}, Accuracy: {val_acc:.4f}\")\n",
    "\n",
    "    # writer.add_scalar(\"Loss/train\", train_loss, epoch+1)\n",
    "    # writer.add_scalar(\"Loss/val\", val_loss, epoch+1)\n",
    "    # writer.add_scalar(\"Accuracy/train\", train_acc, epoch+1)\n",
    "    # writer.add_scalar(\"Accuracy/val\", val_acc, epoch+1)\n",
    "\n",
    "    # 검증 정확도가 가장 좋으면 모델 저장\n",
    "    if val_acc > best_val_accuracy:\n",
    "        best_val_accuracy = val_acc\n",
    "        torch.save(model, SAVE_BEST_PATH)\n",
    "    \n",
    "torch.save(model, SAVE_LAST_PATH)\n",
    "\n",
    "# writer.close()"
   ]
  },
  {
   "cell_type": "code",
   "execution_count": 20,
   "id": "ac2ea83e",
   "metadata": {},
   "outputs": [
    {
     "data": {
      "text/plain": [
       "Cnn14(\n",
       "  (bn0): BatchNorm2d(64, eps=1e-05, momentum=0.1, affine=True, track_running_stats=True)\n",
       "  (conv_block1): ConvBlock(\n",
       "    (conv1): Conv2d(1, 64, kernel_size=(3, 3), stride=(1, 1), padding=(1, 1), bias=False)\n",
       "    (conv2): Conv2d(64, 64, kernel_size=(3, 3), stride=(1, 1), padding=(1, 1), bias=False)\n",
       "    (bn1): BatchNorm2d(64, eps=1e-05, momentum=0.1, affine=True, track_running_stats=True)\n",
       "    (bn2): BatchNorm2d(64, eps=1e-05, momentum=0.1, affine=True, track_running_stats=True)\n",
       "  )\n",
       "  (conv_block2): ConvBlock(\n",
       "    (conv1): Conv2d(64, 128, kernel_size=(3, 3), stride=(1, 1), padding=(1, 1), bias=False)\n",
       "    (conv2): Conv2d(128, 128, kernel_size=(3, 3), stride=(1, 1), padding=(1, 1), bias=False)\n",
       "    (bn1): BatchNorm2d(128, eps=1e-05, momentum=0.1, affine=True, track_running_stats=True)\n",
       "    (bn2): BatchNorm2d(128, eps=1e-05, momentum=0.1, affine=True, track_running_stats=True)\n",
       "  )\n",
       "  (conv_block3): ConvBlock(\n",
       "    (conv1): Conv2d(128, 256, kernel_size=(3, 3), stride=(1, 1), padding=(1, 1), bias=False)\n",
       "    (conv2): Conv2d(256, 256, kernel_size=(3, 3), stride=(1, 1), padding=(1, 1), bias=False)\n",
       "    (bn1): BatchNorm2d(256, eps=1e-05, momentum=0.1, affine=True, track_running_stats=True)\n",
       "    (bn2): BatchNorm2d(256, eps=1e-05, momentum=0.1, affine=True, track_running_stats=True)\n",
       "  )\n",
       "  (conv_block4): ConvBlock(\n",
       "    (conv1): Conv2d(256, 512, kernel_size=(3, 3), stride=(1, 1), padding=(1, 1), bias=False)\n",
       "    (conv2): Conv2d(512, 512, kernel_size=(3, 3), stride=(1, 1), padding=(1, 1), bias=False)\n",
       "    (bn1): BatchNorm2d(512, eps=1e-05, momentum=0.1, affine=True, track_running_stats=True)\n",
       "    (bn2): BatchNorm2d(512, eps=1e-05, momentum=0.1, affine=True, track_running_stats=True)\n",
       "  )\n",
       "  (conv_block5): ConvBlock(\n",
       "    (conv1): Conv2d(512, 1024, kernel_size=(3, 3), stride=(1, 1), padding=(1, 1), bias=False)\n",
       "    (conv2): Conv2d(1024, 1024, kernel_size=(3, 3), stride=(1, 1), padding=(1, 1), bias=False)\n",
       "    (bn1): BatchNorm2d(1024, eps=1e-05, momentum=0.1, affine=True, track_running_stats=True)\n",
       "    (bn2): BatchNorm2d(1024, eps=1e-05, momentum=0.1, affine=True, track_running_stats=True)\n",
       "  )\n",
       "  (conv_block6): ConvBlock(\n",
       "    (conv1): Conv2d(1024, 2048, kernel_size=(3, 3), stride=(1, 1), padding=(1, 1), bias=False)\n",
       "    (conv2): Conv2d(2048, 2048, kernel_size=(3, 3), stride=(1, 1), padding=(1, 1), bias=False)\n",
       "    (bn1): BatchNorm2d(2048, eps=1e-05, momentum=0.1, affine=True, track_running_stats=True)\n",
       "    (bn2): BatchNorm2d(2048, eps=1e-05, momentum=0.1, affine=True, track_running_stats=True)\n",
       "  )\n",
       "  (fc1): Linear(in_features=2048, out_features=2048, bias=True)\n",
       "  (fc_audioset): Linear(in_features=2048, out_features=5, bias=True)\n",
       ")"
      ]
     },
     "execution_count": 20,
     "metadata": {},
     "output_type": "execute_result"
    }
   ],
   "source": [
    "# 저장한 모델 로드\n",
    "model = torch.load(\"./result/best.pt\", weights_only=False)\n",
    "model.to(DEVICE)"
   ]
  },
  {
   "cell_type": "code",
   "execution_count": 21,
   "id": "2aed88d9",
   "metadata": {},
   "outputs": [
    {
     "name": "stderr",
     "output_type": "stream",
     "text": [
      "검증중: 100%|██████████| 10/10 [00:00<00:00, 23.95it/s]"
     ]
    },
    {
     "name": "stdout",
     "output_type": "stream",
     "text": [
      "Test Loss: 0.0040, Accuracy: 0.9967\n"
     ]
    },
    {
     "name": "stderr",
     "output_type": "stream",
     "text": [
      "\n"
     ]
    }
   ],
   "source": [
    "# 모델 테스트\n",
    "test_loss, test_acc = validate(model, test_loader, criterion, DEVICE)\n",
    "print(f\"Test Loss: {test_loss:.4f}, Accuracy: {test_acc:.4f}\")"
   ]
  },
  {
   "cell_type": "raw",
   "id": "7d489255",
   "metadata": {
    "vscode": {
     "languageId": "raw"
    }
   },
   "source": [
    "tensorboard --logdir=./runs"
   ]
  }
 ],
 "metadata": {
  "kernelspec": {
   "display_name": "pytorch_2.7.0",
   "language": "python",
   "name": "python3"
  },
  "language_info": {
   "codemirror_mode": {
    "name": "ipython",
    "version": 3
   },
   "file_extension": ".py",
   "mimetype": "text/x-python",
   "name": "python",
   "nbconvert_exporter": "python",
   "pygments_lexer": "ipython3",
   "version": "3.12.9"
  }
 },
 "nbformat": 4,
 "nbformat_minor": 5
}
