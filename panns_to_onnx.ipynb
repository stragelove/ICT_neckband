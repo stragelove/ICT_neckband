{
 "cells": [
  {
   "cell_type": "code",
   "execution_count": 31,
   "id": "ca1e403c",
   "metadata": {},
   "outputs": [],
   "source": [
    "import sys\n",
    "sys.path.append('./models')\n",
    "\n",
    "import torch\n",
    "import onnx\n",
    "import time\n",
    "import threading\n",
    "import netron\n",
    "from tqdm import tqdm"
   ]
  },
  {
   "cell_type": "code",
   "execution_count": 32,
   "id": "629a8b13",
   "metadata": {},
   "outputs": [
    {
     "name": "stdout",
     "output_type": "stream",
     "text": [
      "2.6.0+cu126\n",
      "1.17.0\n"
     ]
    }
   ],
   "source": [
    "print(torch.__version__)\n",
    "print(onnx.__version__)"
   ]
  },
  {
   "cell_type": "code",
   "execution_count": 33,
   "id": "a0537115",
   "metadata": {},
   "outputs": [
    {
     "data": {
      "text/plain": [
       "True"
      ]
     },
     "execution_count": 33,
     "metadata": {},
     "output_type": "execute_result"
    }
   ],
   "source": [
    "torch.cuda.is_available()"
   ]
  },
  {
   "cell_type": "code",
   "execution_count": 34,
   "id": "f109a69e",
   "metadata": {},
   "outputs": [],
   "source": [
    "MODEL_PATH = \"./result/best.pt\" # 모델 경로\n",
    "ONNX_PATH = \"./onnx/panns_cnn14.onnx\" # 오닉스 저장경로\n",
    "DEVICE = 'cuda' if torch.cuda.is_available() else 'cpu' # cuda 사용 가능여부 확인"
   ]
  },
  {
   "cell_type": "code",
   "execution_count": 35,
   "id": "e9027473",
   "metadata": {},
   "outputs": [
    {
     "name": "stdout",
     "output_type": "stream",
     "text": [
      "cuda\n"
     ]
    }
   ],
   "source": [
    "print(DEVICE)"
   ]
  },
  {
   "cell_type": "code",
   "execution_count": 36,
   "id": "120c0117",
   "metadata": {},
   "outputs": [
    {
     "name": "stdout",
     "output_type": "stream",
     "text": [
      "reflect\n"
     ]
    }
   ],
   "source": [
    "# 모델 로드\n",
    "model = torch.load(MODEL_PATH, weights_only=False)\n",
    "model.to(DEVICE)\n",
    "print(model.spectrogram_extractor.stft.pad_mode)"
   ]
  },
  {
   "cell_type": "code",
   "execution_count": 37,
   "id": "934caa93",
   "metadata": {},
   "outputs": [
    {
     "name": "stdout",
     "output_type": "stream",
     "text": [
      "constant\n"
     ]
    }
   ],
   "source": [
    "# 패딩 모드 변경\n",
    "'''\n",
    "STFT 입력층의 패딩의 형태를 상수의 형대로 정하는 코드\n",
    "모델의 기본값은 \"reflect\" 이나\n",
    "onnx 와의 호환성을 위해 \"constant\" 변경\n",
    "'''\n",
    "model.spectrogram_extractor.stft.pad_mode = \"constant\"\n",
    "print(model.spectrogram_extractor.stft.pad_mode)"
   ]
  },
  {
   "cell_type": "code",
   "execution_count": 38,
   "id": "acf4b1b4",
   "metadata": {},
   "outputs": [],
   "source": [
    "# 더미 생성: (batch_size, length)\n",
    "dummy_input = torch.randn(1, 16000, device=DEVICE)"
   ]
  },
  {
   "cell_type": "code",
   "execution_count": 41,
   "id": "1bbdb389",
   "metadata": {},
   "outputs": [
    {
     "name": "stdout",
     "output_type": "stream",
     "text": [
      "ONNX 변환중...\n",
      "ONNX 변환완료'./onnx/panns_cnn14.onnx'에 저장됨\n"
     ]
    }
   ],
   "source": [
    "# onnx 모델 변환\n",
    "\n",
    "print(\"ONNX 변환중...\")\n",
    "\n",
    "torch.onnx.export(model, # PyTorch 모델\n",
    "                  dummy_input, # 입력 텐서 (튜플도 가능)\n",
    "                  ONNX_PATH, # 저장할 파일 경로\n",
    "                  export_params=True, # 모델 파라미터 포함\n",
    "                  opset_version=11, # onnx의 연산자 버전\n",
    "                  input_names=['input'], # 입력 이름\n",
    "                  output_names=['output'], # 출력 이름\n",
    "                  dynamic_axes={'input': {0: 'batch_size'}, 'output': {0: 'batch_size'}} # 배치 크기를 동적으로 지정\n",
    ")\n",
    "\n",
    "print(f\"ONNX 변환완료'{ONNX_PATH}'에 저장됨\")"
   ]
  },
  {
   "cell_type": "code",
   "execution_count": 42,
   "id": "fa4b418d",
   "metadata": {},
   "outputs": [
    {
     "name": "stdout",
     "output_type": "stream",
     "text": [
      "graph main_graph (\n",
      "  %input[FLOAT, batch_sizex16000]\n",
      ") initializers (\n",
      "  %spectrogram_extractor.stft.conv_real.weight[FLOAT, 257x1x512]\n",
      "  %spectrogram_extractor.stft.conv_imag.weight[FLOAT, 257x1x512]\n",
      "  %logmel_extractor.melW[FLOAT, 257x64]\n",
      "  %bn0.weight[FLOAT, 64]\n",
      "  %bn0.bias[FLOAT, 64]\n",
      "  %bn0.running_mean[FLOAT, 64]\n",
      "  %bn0.running_var[FLOAT, 64]\n",
      "  %fc1.weight[FLOAT, 2048x2048]\n",
      "  %fc1.bias[FLOAT, 2048]\n",
      "  %fc_audioset.weight[FLOAT, 5x2048]\n",
      "  %fc_audioset.bias[FLOAT, 5]\n",
      "  %onnx::Conv_189[FLOAT, 64x1x3x3]\n",
      "  %onnx::Conv_190[FLOAT, 64]\n",
      "  %onnx::Conv_192[FLOAT, 64x64x3x3]\n",
      "  %onnx::Conv_193[FLOAT, 64]\n",
      "  %onnx::Conv_195[FLOAT, 128x64x3x3]\n",
      "  %onnx::Conv_196[FLOAT, 128]\n",
      "  %onnx::Conv_198[FLOAT, 128x128x3x3]\n",
      "  %onnx::Conv_199[FLOAT, 128]\n",
      "  %onnx::Conv_201[FLOAT, 256x128x3x3]\n",
      "  %onnx::Conv_202[FLOAT, 256]\n",
      "  %onnx::Conv_204[FLOAT, 256x256x3x3]\n",
      "  %onnx::Conv_205[FLOAT, 256]\n",
      "  %onnx::Conv_207[FLOAT, 512x256x3x3]\n",
      "  %onnx::Conv_208[FLOAT, 512]\n",
      "  %onnx::Conv_210[FLOAT, 512x512x3x3]\n",
      "  %onnx::Conv_211[FLOAT, 512]\n",
      "  %onnx::Conv_213[FLOAT, 1024x512x3x3]\n",
      "  %onnx::Conv_214[FLOAT, 1024]\n",
      "  %onnx::Conv_216[FLOAT, 1024x1024x3x3]\n",
      "  %onnx::Conv_217[FLOAT, 1024]\n",
      "  %onnx::Conv_219[FLOAT, 2048x1024x3x3]\n",
      "  %onnx::Conv_220[FLOAT, 2048]\n",
      "  %onnx::Conv_222[FLOAT, 2048x2048x3x3]\n",
      "  %onnx::Conv_223[FLOAT, 2048]\n",
      ") {\n",
      "  %/spectrogram_extractor/Unsqueeze_output_0 = Unsqueeze[axes = [1]](%input)\n",
      "  %/spectrogram_extractor/Constant_output_0 = Constant[value = <Tensor>]()\n",
      "  %/spectrogram_extractor/Constant_1_output_0 = Constant[value = <Tensor>]()\n",
      "  %/spectrogram_extractor/ConstantOfShape_output_0 = ConstantOfShape[value = <Tensor>](%/spectrogram_extractor/Constant_output_0)\n",
      "  %/spectrogram_extractor/Concat_output_0 = Concat[axis = 0](%/spectrogram_extractor/Constant_1_output_0, %/spectrogram_extractor/ConstantOfShape_output_0)\n",
      "  %/spectrogram_extractor/Constant_2_output_0 = Constant[value = <Tensor>]()\n",
      "  %/spectrogram_extractor/Reshape_output_0 = Reshape(%/spectrogram_extractor/Concat_output_0, %/spectrogram_extractor/Constant_2_output_0)\n",
      "  %/spectrogram_extractor/Constant_3_output_0 = Constant[value = <Tensor>]()\n",
      "  %/spectrogram_extractor/Constant_4_output_0 = Constant[value = <Tensor>]()\n",
      "  %/spectrogram_extractor/Constant_5_output_0 = Constant[value = <Tensor>]()\n",
      "  %/spectrogram_extractor/Constant_6_output_0 = Constant[value = <Tensor>]()\n",
      "  %/spectrogram_extractor/Slice_output_0 = Slice(%/spectrogram_extractor/Reshape_output_0, %/spectrogram_extractor/Constant_4_output_0, %/spectrogram_extractor/Constant_5_output_0, %/spectrogram_extractor/Constant_3_output_0, %/spectrogram_extractor/Constant_6_output_0)\n",
      "  %/spectrogram_extractor/Transpose_output_0 = Transpose[perm = [1, 0]](%/spectrogram_extractor/Slice_output_0)\n",
      "  %/spectrogram_extractor/Constant_7_output_0 = Constant[value = <Tensor>]()\n",
      "  %/spectrogram_extractor/Reshape_1_output_0 = Reshape(%/spectrogram_extractor/Transpose_output_0, %/spectrogram_extractor/Constant_7_output_0)\n",
      "  %/spectrogram_extractor/Cast_output_0 = Cast[to = 7](%/spectrogram_extractor/Reshape_1_output_0)\n",
      "  %/spectrogram_extractor/Pad_output_0 = Pad[mode = 'constant'](%/spectrogram_extractor/Unsqueeze_output_0, %/spectrogram_extractor/Cast_output_0, %)\n",
      "  %/spectrogram_extractor/conv_real/Conv_output_0 = Conv[dilations = [1], group = 1, kernel_shape = [512], pads = [0, 0], strides = [160]](%/spectrogram_extractor/Pad_output_0, %spectrogram_extractor.stft.conv_real.weight)\n",
      "  %/spectrogram_extractor/conv_imag/Conv_output_0 = Conv[dilations = [1], group = 1, kernel_shape = [512], pads = [0, 0], strides = [160]](%/spectrogram_extractor/Pad_output_0, %spectrogram_extractor.stft.conv_imag.weight)\n",
      "  %/spectrogram_extractor/Unsqueeze_1_output_0 = Unsqueeze[axes = [1]](%/spectrogram_extractor/conv_real/Conv_output_0)\n",
      "  %/spectrogram_extractor/Transpose_1_output_0 = Transpose[perm = [0, 1, 3, 2]](%/spectrogram_extractor/Unsqueeze_1_output_0)\n",
      "  %/spectrogram_extractor/Unsqueeze_2_output_0 = Unsqueeze[axes = [1]](%/spectrogram_extractor/conv_imag/Conv_output_0)\n",
      "  %/spectrogram_extractor/Transpose_2_output_0 = Transpose[perm = [0, 1, 3, 2]](%/spectrogram_extractor/Unsqueeze_2_output_0)\n",
      "  %/spectrogram_extractor/Constant_8_output_0 = Constant[value = <Scalar Tensor []>]()\n",
      "  %/spectrogram_extractor/Pow_output_0 = Pow(%/spectrogram_extractor/Transpose_1_output_0, %/spectrogram_extractor/Constant_8_output_0)\n",
      "  %/spectrogram_extractor/Constant_9_output_0 = Constant[value = <Scalar Tensor []>]()\n",
      "  %/spectrogram_extractor/Pow_1_output_0 = Pow(%/spectrogram_extractor/Transpose_2_output_0, %/spectrogram_extractor/Constant_9_output_0)\n",
      "  %/spectrogram_extractor/Add_output_0 = Add(%/spectrogram_extractor/Pow_output_0, %/spectrogram_extractor/Pow_1_output_0)\n",
      "  %/logmel_extractor/MatMul_output_0 = MatMul(%/spectrogram_extractor/Add_output_0, %logmel_extractor.melW)\n",
      "  %/logmel_extractor/Constant_output_0 = Constant[value = <Scalar Tensor []>]()\n",
      "  %/logmel_extractor/Constant_1_output_0 = Constant[value = <Scalar Tensor []>]()\n",
      "  %/logmel_extractor/Clip_output_0 = Clip(%/logmel_extractor/MatMul_output_0, %/logmel_extractor/Constant_output_0, %/logmel_extractor/Constant_1_output_0)\n",
      "  %/logmel_extractor/Log_output_0 = Log(%/logmel_extractor/Clip_output_0)\n",
      "  %/logmel_extractor/Constant_2_output_0 = Constant[value = <Tensor>]()\n",
      "  %/logmel_extractor/Div_output_0 = Div(%/logmel_extractor/Log_output_0, %/logmel_extractor/Constant_2_output_0)\n",
      "  %/logmel_extractor/Constant_3_output_0 = Constant[value = <Scalar Tensor []>]()\n",
      "  %/logmel_extractor/Mul_output_0 = Mul(%/logmel_extractor/Div_output_0, %/logmel_extractor/Constant_3_output_0)\n",
      "  %/logmel_extractor/Constant_4_output_0 = Constant[value = <Scalar Tensor []>]()\n",
      "  %/logmel_extractor/Sub_output_0 = Sub(%/logmel_extractor/Mul_output_0, %/logmel_extractor/Constant_4_output_0)\n",
      "  %/Transpose_output_0 = Transpose[perm = [0, 3, 2, 1]](%/logmel_extractor/Sub_output_0)\n",
      "  %/bn0/BatchNormalization_output_0 = BatchNormalization[epsilon = 9.99999974737875e-06, momentum = 0.899999976158142](%/Transpose_output_0, %bn0.weight, %bn0.bias, %bn0.running_mean, %bn0.running_var)\n",
      "  %/Transpose_1_output_0 = Transpose[perm = [0, 3, 2, 1]](%/bn0/BatchNormalization_output_0)\n",
      "  %/conv_block1/conv1/Conv_output_0 = Conv[dilations = [1, 1], group = 1, kernel_shape = [3, 3], pads = [1, 1, 1, 1], strides = [1, 1]](%/Transpose_1_output_0, %onnx::Conv_189, %onnx::Conv_190)\n",
      "  %/conv_block1/Relu_output_0 = Relu(%/conv_block1/conv1/Conv_output_0)\n",
      "  %/conv_block1/conv2/Conv_output_0 = Conv[dilations = [1, 1], group = 1, kernel_shape = [3, 3], pads = [1, 1, 1, 1], strides = [1, 1]](%/conv_block1/Relu_output_0, %onnx::Conv_192, %onnx::Conv_193)\n",
      "  %/conv_block1/Relu_1_output_0 = Relu(%/conv_block1/conv2/Conv_output_0)\n",
      "  %/conv_block1/AveragePool_output_0 = AveragePool[ceil_mode = 0, count_include_pad = 1, kernel_shape = [2, 2], pads = [0, 0, 0, 0], strides = [2, 2]](%/conv_block1/Relu_1_output_0)\n",
      "  %/conv_block2/conv1/Conv_output_0 = Conv[dilations = [1, 1], group = 1, kernel_shape = [3, 3], pads = [1, 1, 1, 1], strides = [1, 1]](%/conv_block1/AveragePool_output_0, %onnx::Conv_195, %onnx::Conv_196)\n",
      "  %/conv_block2/Relu_output_0 = Relu(%/conv_block2/conv1/Conv_output_0)\n",
      "  %/conv_block2/conv2/Conv_output_0 = Conv[dilations = [1, 1], group = 1, kernel_shape = [3, 3], pads = [1, 1, 1, 1], strides = [1, 1]](%/conv_block2/Relu_output_0, %onnx::Conv_198, %onnx::Conv_199)\n",
      "  %/conv_block2/Relu_1_output_0 = Relu(%/conv_block2/conv2/Conv_output_0)\n",
      "  %/conv_block2/AveragePool_output_0 = AveragePool[ceil_mode = 0, count_include_pad = 1, kernel_shape = [2, 2], pads = [0, 0, 0, 0], strides = [2, 2]](%/conv_block2/Relu_1_output_0)\n",
      "  %/conv_block3/conv1/Conv_output_0 = Conv[dilations = [1, 1], group = 1, kernel_shape = [3, 3], pads = [1, 1, 1, 1], strides = [1, 1]](%/conv_block2/AveragePool_output_0, %onnx::Conv_201, %onnx::Conv_202)\n",
      "  %/conv_block3/Relu_output_0 = Relu(%/conv_block3/conv1/Conv_output_0)\n",
      "  %/conv_block3/conv2/Conv_output_0 = Conv[dilations = [1, 1], group = 1, kernel_shape = [3, 3], pads = [1, 1, 1, 1], strides = [1, 1]](%/conv_block3/Relu_output_0, %onnx::Conv_204, %onnx::Conv_205)\n",
      "  %/conv_block3/Relu_1_output_0 = Relu(%/conv_block3/conv2/Conv_output_0)\n",
      "  %/conv_block3/AveragePool_output_0 = AveragePool[ceil_mode = 0, count_include_pad = 1, kernel_shape = [2, 2], pads = [0, 0, 0, 0], strides = [2, 2]](%/conv_block3/Relu_1_output_0)\n",
      "  %/conv_block4/conv1/Conv_output_0 = Conv[dilations = [1, 1], group = 1, kernel_shape = [3, 3], pads = [1, 1, 1, 1], strides = [1, 1]](%/conv_block3/AveragePool_output_0, %onnx::Conv_207, %onnx::Conv_208)\n",
      "  %/conv_block4/Relu_output_0 = Relu(%/conv_block4/conv1/Conv_output_0)\n",
      "  %/conv_block4/conv2/Conv_output_0 = Conv[dilations = [1, 1], group = 1, kernel_shape = [3, 3], pads = [1, 1, 1, 1], strides = [1, 1]](%/conv_block4/Relu_output_0, %onnx::Conv_210, %onnx::Conv_211)\n",
      "  %/conv_block4/Relu_1_output_0 = Relu(%/conv_block4/conv2/Conv_output_0)\n",
      "  %/conv_block4/AveragePool_output_0 = AveragePool[ceil_mode = 0, count_include_pad = 1, kernel_shape = [2, 2], pads = [0, 0, 0, 0], strides = [2, 2]](%/conv_block4/Relu_1_output_0)\n",
      "  %/conv_block5/conv1/Conv_output_0 = Conv[dilations = [1, 1], group = 1, kernel_shape = [3, 3], pads = [1, 1, 1, 1], strides = [1, 1]](%/conv_block4/AveragePool_output_0, %onnx::Conv_213, %onnx::Conv_214)\n",
      "  %/conv_block5/Relu_output_0 = Relu(%/conv_block5/conv1/Conv_output_0)\n",
      "  %/conv_block5/conv2/Conv_output_0 = Conv[dilations = [1, 1], group = 1, kernel_shape = [3, 3], pads = [1, 1, 1, 1], strides = [1, 1]](%/conv_block5/Relu_output_0, %onnx::Conv_216, %onnx::Conv_217)\n",
      "  %/conv_block5/Relu_1_output_0 = Relu(%/conv_block5/conv2/Conv_output_0)\n",
      "  %/conv_block5/AveragePool_output_0 = AveragePool[ceil_mode = 0, count_include_pad = 1, kernel_shape = [2, 2], pads = [0, 0, 0, 0], strides = [2, 2]](%/conv_block5/Relu_1_output_0)\n",
      "  %/conv_block6/conv1/Conv_output_0 = Conv[dilations = [1, 1], group = 1, kernel_shape = [3, 3], pads = [1, 1, 1, 1], strides = [1, 1]](%/conv_block5/AveragePool_output_0, %onnx::Conv_219, %onnx::Conv_220)\n",
      "  %/conv_block6/Relu_output_0 = Relu(%/conv_block6/conv1/Conv_output_0)\n",
      "  %/conv_block6/conv2/Conv_output_0 = Conv[dilations = [1, 1], group = 1, kernel_shape = [3, 3], pads = [1, 1, 1, 1], strides = [1, 1]](%/conv_block6/Relu_output_0, %onnx::Conv_222, %onnx::Conv_223)\n",
      "  %/conv_block6/Relu_1_output_0 = Relu(%/conv_block6/conv2/Conv_output_0)\n",
      "  %/conv_block6/AveragePool_output_0 = AveragePool[ceil_mode = 0, count_include_pad = 1, kernel_shape = [1, 1], pads = [0, 0, 0, 0], strides = [1, 1]](%/conv_block6/Relu_1_output_0)\n",
      "  %/ReduceMean_output_0 = ReduceMean[axes = [3], keepdims = 0](%/conv_block6/AveragePool_output_0)\n",
      "  %/ReduceMax_output_0 = ReduceMax[axes = [2], keepdims = 0](%/ReduceMean_output_0)\n",
      "  %/ReduceMean_1_output_0 = ReduceMean[axes = [2], keepdims = 0](%/ReduceMean_output_0)\n",
      "  %/Add_output_0 = Add(%/ReduceMax_output_0, %/ReduceMean_1_output_0)\n",
      "  %/fc1/Gemm_output_0 = Gemm[alpha = 1, beta = 1, transB = 1](%/Add_output_0, %fc1.weight, %fc1.bias)\n",
      "  %onnx::Gemm_185 = Relu(%/fc1/Gemm_output_0)\n",
      "  %/fc_audioset/Gemm_output_0 = Gemm[alpha = 1, beta = 1, transB = 1](%onnx::Gemm_185, %fc_audioset.weight, %fc_audioset.bias)\n",
      "  %output = Sigmoid(%/fc_audioset/Gemm_output_0)\n",
      "  return %output, %onnx::Gemm_185\n",
      "}\n"
     ]
    }
   ],
   "source": [
    "model = onnx.load(ONNX_PATH)\n",
    "print(onnx.helper.printable_graph(model.graph))"
   ]
  },
  {
   "cell_type": "code",
   "execution_count": 43,
   "id": "bdc3ab8b",
   "metadata": {},
   "outputs": [
    {
     "name": "stdout",
     "output_type": "stream",
     "text": [
      "Inputs:\n",
      "name: \"input\"\n",
      "type {\n",
      "  tensor_type {\n",
      "    elem_type: 1\n",
      "    shape {\n",
      "      dim {\n",
      "        dim_param: \"batch_size\"\n",
      "      }\n",
      "      dim {\n",
      "        dim_value: 16000\n",
      "      }\n",
      "    }\n",
      "  }\n",
      "}\n",
      "\n",
      "\n",
      "Outputs:\n",
      "name: \"output\"\n",
      "type {\n",
      "  tensor_type {\n",
      "    elem_type: 1\n",
      "    shape {\n",
      "      dim {\n",
      "        dim_param: \"batch_size\"\n",
      "      }\n",
      "      dim {\n",
      "        dim_value: 5\n",
      "      }\n",
      "    }\n",
      "  }\n",
      "}\n",
      "\n",
      "name: \"onnx::Gemm_185\"\n",
      "type {\n",
      "  tensor_type {\n",
      "    elem_type: 1\n",
      "    shape {\n",
      "      dim {\n",
      "        dim_param: \"batch_size\"\n",
      "      }\n",
      "      dim {\n",
      "        dim_value: 2048\n",
      "      }\n",
      "    }\n",
      "  }\n",
      "}\n",
      "\n"
     ]
    }
   ],
   "source": [
    "print(\"Inputs:\")\n",
    "for input_tensor in model.graph.input:\n",
    "    print(input_tensor)\n",
    "\n",
    "print(\"\\nOutputs:\")\n",
    "for output_tensor in model.graph.output:\n",
    "    print(output_tensor)"
   ]
  },
  {
   "cell_type": "code",
   "execution_count": 44,
   "id": "273f60a0",
   "metadata": {},
   "outputs": [
    {
     "name": "stdout",
     "output_type": "stream",
     "text": [
      "모델이 올바른 ONNX 형식을 따릅니다.\n"
     ]
    }
   ],
   "source": [
    "try:\n",
    "    onnx.checker.check_model(model)\n",
    "    print(\"모델이 올바른 ONNX 형식을 따릅니다.\")\n",
    "except onnx.checker.ValidationError as e:\n",
    "    print(\"모델 검증 실패\")\n",
    "    print(e)"
   ]
  },
  {
   "cell_type": "code",
   "execution_count": 47,
   "id": "968952c1",
   "metadata": {},
   "outputs": [
    {
     "name": "stdout",
     "output_type": "stream",
     "text": [
      "Serving './onnx/panns_cnn14.onnx' at http://localhost:8080\n"
     ]
    },
    {
     "data": {
      "text/plain": [
       "('localhost', 8080)"
      ]
     },
     "execution_count": 47,
     "metadata": {},
     "output_type": "execute_result"
    }
   ],
   "source": [
    "# 모델 시각화\n",
    "netron.start (ONNX_PATH)"
   ]
  }
 ],
 "metadata": {
  "kernelspec": {
   "display_name": "pytorch_2.6.0",
   "language": "python",
   "name": "python3"
  },
  "language_info": {
   "codemirror_mode": {
    "name": "ipython",
    "version": 3
   },
   "file_extension": ".py",
   "mimetype": "text/x-python",
   "name": "python",
   "nbconvert_exporter": "python",
   "pygments_lexer": "ipython3",
   "version": "3.13.2"
  }
 },
 "nbformat": 4,
 "nbformat_minor": 5
}
