{
 "cells": [
  {
   "cell_type": "code",
   "execution_count": 1,
   "id": "ca1e403c",
   "metadata": {},
   "outputs": [],
   "source": [
    "import torch\n",
    "import onnx\n",
    "import onnxruntime as ort\n",
    "import netron"
   ]
  },
  {
   "cell_type": "code",
   "execution_count": 2,
   "id": "629a8b13",
   "metadata": {},
   "outputs": [
    {
     "name": "stdout",
     "output_type": "stream",
     "text": [
      "2.7.0+cu126\n",
      "1.18.0\n",
      "GPU\n",
      "1.22.0\n"
     ]
    }
   ],
   "source": [
    "print(torch.__version__)\n",
    "print(onnx.__version__)\n",
    "print(ort.get_device())\n",
    "print(ort.__version__)"
   ]
  },
  {
   "cell_type": "code",
   "execution_count": 3,
   "id": "f109a69e",
   "metadata": {},
   "outputs": [],
   "source": [
    "MODEL_PATH = \"./result/best.pt\" # 모델 경로\n",
    "ONNX_PATH = \"./onnx/panns_cnn14.onnx\" # 오닉스 저장경로\n",
    "DEVICE = 'cuda' if torch.cuda.is_available() else 'cpu' # cuda 사용 가능여부 확인"
   ]
  },
  {
   "cell_type": "code",
   "execution_count": 4,
   "id": "e9027473",
   "metadata": {},
   "outputs": [
    {
     "name": "stdout",
     "output_type": "stream",
     "text": [
      "cuda\n"
     ]
    }
   ],
   "source": [
    "print(DEVICE)"
   ]
  },
  {
   "cell_type": "code",
   "execution_count": 5,
   "id": "120c0117",
   "metadata": {},
   "outputs": [
    {
     "data": {
      "text/plain": [
       "Cnn14(\n",
       "  (bn0): BatchNorm2d(64, eps=1e-05, momentum=0.1, affine=True, track_running_stats=True)\n",
       "  (conv_block1): ConvBlock(\n",
       "    (conv1): Conv2d(1, 64, kernel_size=(3, 3), stride=(1, 1), padding=(1, 1), bias=False)\n",
       "    (conv2): Conv2d(64, 64, kernel_size=(3, 3), stride=(1, 1), padding=(1, 1), bias=False)\n",
       "    (bn1): BatchNorm2d(64, eps=1e-05, momentum=0.1, affine=True, track_running_stats=True)\n",
       "    (bn2): BatchNorm2d(64, eps=1e-05, momentum=0.1, affine=True, track_running_stats=True)\n",
       "  )\n",
       "  (conv_block2): ConvBlock(\n",
       "    (conv1): Conv2d(64, 128, kernel_size=(3, 3), stride=(1, 1), padding=(1, 1), bias=False)\n",
       "    (conv2): Conv2d(128, 128, kernel_size=(3, 3), stride=(1, 1), padding=(1, 1), bias=False)\n",
       "    (bn1): BatchNorm2d(128, eps=1e-05, momentum=0.1, affine=True, track_running_stats=True)\n",
       "    (bn2): BatchNorm2d(128, eps=1e-05, momentum=0.1, affine=True, track_running_stats=True)\n",
       "  )\n",
       "  (conv_block3): ConvBlock(\n",
       "    (conv1): Conv2d(128, 256, kernel_size=(3, 3), stride=(1, 1), padding=(1, 1), bias=False)\n",
       "    (conv2): Conv2d(256, 256, kernel_size=(3, 3), stride=(1, 1), padding=(1, 1), bias=False)\n",
       "    (bn1): BatchNorm2d(256, eps=1e-05, momentum=0.1, affine=True, track_running_stats=True)\n",
       "    (bn2): BatchNorm2d(256, eps=1e-05, momentum=0.1, affine=True, track_running_stats=True)\n",
       "  )\n",
       "  (conv_block4): ConvBlock(\n",
       "    (conv1): Conv2d(256, 512, kernel_size=(3, 3), stride=(1, 1), padding=(1, 1), bias=False)\n",
       "    (conv2): Conv2d(512, 512, kernel_size=(3, 3), stride=(1, 1), padding=(1, 1), bias=False)\n",
       "    (bn1): BatchNorm2d(512, eps=1e-05, momentum=0.1, affine=True, track_running_stats=True)\n",
       "    (bn2): BatchNorm2d(512, eps=1e-05, momentum=0.1, affine=True, track_running_stats=True)\n",
       "  )\n",
       "  (conv_block5): ConvBlock(\n",
       "    (conv1): Conv2d(512, 1024, kernel_size=(3, 3), stride=(1, 1), padding=(1, 1), bias=False)\n",
       "    (conv2): Conv2d(1024, 1024, kernel_size=(3, 3), stride=(1, 1), padding=(1, 1), bias=False)\n",
       "    (bn1): BatchNorm2d(1024, eps=1e-05, momentum=0.1, affine=True, track_running_stats=True)\n",
       "    (bn2): BatchNorm2d(1024, eps=1e-05, momentum=0.1, affine=True, track_running_stats=True)\n",
       "  )\n",
       "  (conv_block6): ConvBlock(\n",
       "    (conv1): Conv2d(1024, 2048, kernel_size=(3, 3), stride=(1, 1), padding=(1, 1), bias=False)\n",
       "    (conv2): Conv2d(2048, 2048, kernel_size=(3, 3), stride=(1, 1), padding=(1, 1), bias=False)\n",
       "    (bn1): BatchNorm2d(2048, eps=1e-05, momentum=0.1, affine=True, track_running_stats=True)\n",
       "    (bn2): BatchNorm2d(2048, eps=1e-05, momentum=0.1, affine=True, track_running_stats=True)\n",
       "  )\n",
       "  (fc1): Linear(in_features=2048, out_features=2048, bias=True)\n",
       "  (fc_audioset): Linear(in_features=2048, out_features=5, bias=True)\n",
       ")"
      ]
     },
     "execution_count": 5,
     "metadata": {},
     "output_type": "execute_result"
    }
   ],
   "source": [
    "# 모델 로드\n",
    "model = torch.load(MODEL_PATH, weights_only=False)\n",
    "model.to(DEVICE)"
   ]
  },
  {
   "cell_type": "code",
   "execution_count": 6,
   "id": "acf4b1b4",
   "metadata": {},
   "outputs": [],
   "source": [
    "# 더미 생성: (batch, 1, time, mel_bins)\n",
    "dummy_input = torch.randn(1, 1, 101, 64, device=DEVICE)"
   ]
  },
  {
   "cell_type": "code",
   "execution_count": 7,
   "id": "558bd945",
   "metadata": {},
   "outputs": [
    {
     "name": "stdout",
     "output_type": "stream",
     "text": [
      "torch.Size([1, 1, 101, 64])\n"
     ]
    }
   ],
   "source": [
    "print(dummy_input.shape)"
   ]
  },
  {
   "cell_type": "code",
   "execution_count": 8,
   "id": "1bbdb389",
   "metadata": {},
   "outputs": [
    {
     "name": "stdout",
     "output_type": "stream",
     "text": [
      "ONNX 변환중...\n",
      "ONNX 변환완료'./onnx/panns_cnn14.onnx'에 저장됨\n"
     ]
    }
   ],
   "source": [
    "# onnx 모델 변환\n",
    "print(\"ONNX 변환중...\")\n",
    "\n",
    "torch.onnx.export(model, # PyTorch 모델\n",
    "                dummy_input, # 입력 텐서 (튜플도 가능)\n",
    "                ONNX_PATH, # 저장할 파일 경로\n",
    "                export_params=True, # 모델 파라미터 포함\n",
    "                opset_version=11, # onnx의 연산자 버전\n",
    "                input_names=['input'], # 입력 이름\n",
    "                output_names=['output'], # 출력 이름\n",
    "                dynamic_axes={'input': {0: 'batch_size'}, 'output': {0: 'batch_size'}} # 배치 크기를 동적으로 지정\n",
    ")\n",
    "\n",
    "print(f\"ONNX 변환완료'{ONNX_PATH}'에 저장됨\")"
   ]
  },
  {
   "cell_type": "code",
   "execution_count": 9,
   "id": "fa4b418d",
   "metadata": {},
   "outputs": [
    {
     "name": "stdout",
     "output_type": "stream",
     "text": [
      "graph main_graph (\n",
      "  %input[FLOAT, batch_sizex1x101x64]\n",
      ") initializers (\n",
      "  %bn0.weight[FLOAT, 64]\n",
      "  %bn0.bias[FLOAT, 64]\n",
      "  %bn0.running_mean[FLOAT, 64]\n",
      "  %bn0.running_var[FLOAT, 64]\n",
      "  %fc1.weight[FLOAT, 2048x2048]\n",
      "  %fc1.bias[FLOAT, 2048]\n",
      "  %fc_audioset.weight[FLOAT, 5x2048]\n",
      "  %fc_audioset.bias[FLOAT, 5]\n",
      "  %onnx::Conv_136[FLOAT, 64x1x3x3]\n",
      "  %onnx::Conv_137[FLOAT, 64]\n",
      "  %onnx::Conv_139[FLOAT, 64x64x3x3]\n",
      "  %onnx::Conv_140[FLOAT, 64]\n",
      "  %onnx::Conv_142[FLOAT, 128x64x3x3]\n",
      "  %onnx::Conv_143[FLOAT, 128]\n",
      "  %onnx::Conv_145[FLOAT, 128x128x3x3]\n",
      "  %onnx::Conv_146[FLOAT, 128]\n",
      "  %onnx::Conv_148[FLOAT, 256x128x3x3]\n",
      "  %onnx::Conv_149[FLOAT, 256]\n",
      "  %onnx::Conv_151[FLOAT, 256x256x3x3]\n",
      "  %onnx::Conv_152[FLOAT, 256]\n",
      "  %onnx::Conv_154[FLOAT, 512x256x3x3]\n",
      "  %onnx::Conv_155[FLOAT, 512]\n",
      "  %onnx::Conv_157[FLOAT, 512x512x3x3]\n",
      "  %onnx::Conv_158[FLOAT, 512]\n",
      "  %onnx::Conv_160[FLOAT, 1024x512x3x3]\n",
      "  %onnx::Conv_161[FLOAT, 1024]\n",
      "  %onnx::Conv_163[FLOAT, 1024x1024x3x3]\n",
      "  %onnx::Conv_164[FLOAT, 1024]\n",
      "  %onnx::Conv_166[FLOAT, 2048x1024x3x3]\n",
      "  %onnx::Conv_167[FLOAT, 2048]\n",
      "  %onnx::Conv_169[FLOAT, 2048x2048x3x3]\n",
      "  %onnx::Conv_170[FLOAT, 2048]\n",
      ") {\n",
      "  %/Transpose_output_0 = Transpose[perm = [0, 3, 2, 1]](%input)\n",
      "  %/bn0/BatchNormalization_output_0 = BatchNormalization[epsilon = 9.99999974737875e-06, momentum = 0.899999976158142](%/Transpose_output_0, %bn0.weight, %bn0.bias, %bn0.running_mean, %bn0.running_var)\n",
      "  %/Transpose_1_output_0 = Transpose[perm = [0, 3, 2, 1]](%/bn0/BatchNormalization_output_0)\n",
      "  %/conv_block1/conv1/Conv_output_0 = Conv[dilations = [1, 1], group = 1, kernel_shape = [3, 3], pads = [1, 1, 1, 1], strides = [1, 1]](%/Transpose_1_output_0, %onnx::Conv_136, %onnx::Conv_137)\n",
      "  %/conv_block1/Relu_output_0 = Relu(%/conv_block1/conv1/Conv_output_0)\n",
      "  %/conv_block1/conv2/Conv_output_0 = Conv[dilations = [1, 1], group = 1, kernel_shape = [3, 3], pads = [1, 1, 1, 1], strides = [1, 1]](%/conv_block1/Relu_output_0, %onnx::Conv_139, %onnx::Conv_140)\n",
      "  %/conv_block1/Relu_1_output_0 = Relu(%/conv_block1/conv2/Conv_output_0)\n",
      "  %/conv_block1/AveragePool_output_0 = AveragePool[ceil_mode = 0, count_include_pad = 1, kernel_shape = [2, 2], pads = [0, 0, 0, 0], strides = [2, 2]](%/conv_block1/Relu_1_output_0)\n",
      "  %/conv_block2/conv1/Conv_output_0 = Conv[dilations = [1, 1], group = 1, kernel_shape = [3, 3], pads = [1, 1, 1, 1], strides = [1, 1]](%/conv_block1/AveragePool_output_0, %onnx::Conv_142, %onnx::Conv_143)\n",
      "  %/conv_block2/Relu_output_0 = Relu(%/conv_block2/conv1/Conv_output_0)\n",
      "  %/conv_block2/conv2/Conv_output_0 = Conv[dilations = [1, 1], group = 1, kernel_shape = [3, 3], pads = [1, 1, 1, 1], strides = [1, 1]](%/conv_block2/Relu_output_0, %onnx::Conv_145, %onnx::Conv_146)\n",
      "  %/conv_block2/Relu_1_output_0 = Relu(%/conv_block2/conv2/Conv_output_0)\n",
      "  %/conv_block2/AveragePool_output_0 = AveragePool[ceil_mode = 0, count_include_pad = 1, kernel_shape = [2, 2], pads = [0, 0, 0, 0], strides = [2, 2]](%/conv_block2/Relu_1_output_0)\n",
      "  %/conv_block3/conv1/Conv_output_0 = Conv[dilations = [1, 1], group = 1, kernel_shape = [3, 3], pads = [1, 1, 1, 1], strides = [1, 1]](%/conv_block2/AveragePool_output_0, %onnx::Conv_148, %onnx::Conv_149)\n",
      "  %/conv_block3/Relu_output_0 = Relu(%/conv_block3/conv1/Conv_output_0)\n",
      "  %/conv_block3/conv2/Conv_output_0 = Conv[dilations = [1, 1], group = 1, kernel_shape = [3, 3], pads = [1, 1, 1, 1], strides = [1, 1]](%/conv_block3/Relu_output_0, %onnx::Conv_151, %onnx::Conv_152)\n",
      "  %/conv_block3/Relu_1_output_0 = Relu(%/conv_block3/conv2/Conv_output_0)\n",
      "  %/conv_block3/AveragePool_output_0 = AveragePool[ceil_mode = 0, count_include_pad = 1, kernel_shape = [2, 2], pads = [0, 0, 0, 0], strides = [2, 2]](%/conv_block3/Relu_1_output_0)\n",
      "  %/conv_block4/conv1/Conv_output_0 = Conv[dilations = [1, 1], group = 1, kernel_shape = [3, 3], pads = [1, 1, 1, 1], strides = [1, 1]](%/conv_block3/AveragePool_output_0, %onnx::Conv_154, %onnx::Conv_155)\n",
      "  %/conv_block4/Relu_output_0 = Relu(%/conv_block4/conv1/Conv_output_0)\n",
      "  %/conv_block4/conv2/Conv_output_0 = Conv[dilations = [1, 1], group = 1, kernel_shape = [3, 3], pads = [1, 1, 1, 1], strides = [1, 1]](%/conv_block4/Relu_output_0, %onnx::Conv_157, %onnx::Conv_158)\n",
      "  %/conv_block4/Relu_1_output_0 = Relu(%/conv_block4/conv2/Conv_output_0)\n",
      "  %/conv_block4/AveragePool_output_0 = AveragePool[ceil_mode = 0, count_include_pad = 1, kernel_shape = [2, 2], pads = [0, 0, 0, 0], strides = [2, 2]](%/conv_block4/Relu_1_output_0)\n",
      "  %/conv_block5/conv1/Conv_output_0 = Conv[dilations = [1, 1], group = 1, kernel_shape = [3, 3], pads = [1, 1, 1, 1], strides = [1, 1]](%/conv_block4/AveragePool_output_0, %onnx::Conv_160, %onnx::Conv_161)\n",
      "  %/conv_block5/Relu_output_0 = Relu(%/conv_block5/conv1/Conv_output_0)\n",
      "  %/conv_block5/conv2/Conv_output_0 = Conv[dilations = [1, 1], group = 1, kernel_shape = [3, 3], pads = [1, 1, 1, 1], strides = [1, 1]](%/conv_block5/Relu_output_0, %onnx::Conv_163, %onnx::Conv_164)\n",
      "  %/conv_block5/Relu_1_output_0 = Relu(%/conv_block5/conv2/Conv_output_0)\n",
      "  %/conv_block5/AveragePool_output_0 = AveragePool[ceil_mode = 0, count_include_pad = 1, kernel_shape = [2, 2], pads = [0, 0, 0, 0], strides = [2, 2]](%/conv_block5/Relu_1_output_0)\n",
      "  %/conv_block6/conv1/Conv_output_0 = Conv[dilations = [1, 1], group = 1, kernel_shape = [3, 3], pads = [1, 1, 1, 1], strides = [1, 1]](%/conv_block5/AveragePool_output_0, %onnx::Conv_166, %onnx::Conv_167)\n",
      "  %/conv_block6/Relu_output_0 = Relu(%/conv_block6/conv1/Conv_output_0)\n",
      "  %/conv_block6/conv2/Conv_output_0 = Conv[dilations = [1, 1], group = 1, kernel_shape = [3, 3], pads = [1, 1, 1, 1], strides = [1, 1]](%/conv_block6/Relu_output_0, %onnx::Conv_169, %onnx::Conv_170)\n",
      "  %/conv_block6/Relu_1_output_0 = Relu(%/conv_block6/conv2/Conv_output_0)\n",
      "  %/conv_block6/AveragePool_output_0 = AveragePool[ceil_mode = 0, count_include_pad = 1, kernel_shape = [1, 1], pads = [0, 0, 0, 0], strides = [1, 1]](%/conv_block6/Relu_1_output_0)\n",
      "  %/ReduceMean_output_0 = ReduceMean[axes = [3], keepdims = 0](%/conv_block6/AveragePool_output_0)\n",
      "  %/ReduceMax_output_0 = ReduceMax[axes = [2], keepdims = 0](%/ReduceMean_output_0)\n",
      "  %/ReduceMean_1_output_0 = ReduceMean[axes = [2], keepdims = 0](%/ReduceMean_output_0)\n",
      "  %/Add_output_0 = Add(%/ReduceMax_output_0, %/ReduceMean_1_output_0)\n",
      "  %/fc1/Gemm_output_0 = Gemm[alpha = 1, beta = 1, transB = 1](%/Add_output_0, %fc1.weight, %fc1.bias)\n",
      "  %onnx::Gemm_132 = Relu(%/fc1/Gemm_output_0)\n",
      "  %/fc_audioset/Gemm_output_0 = Gemm[alpha = 1, beta = 1, transB = 1](%onnx::Gemm_132, %fc_audioset.weight, %fc_audioset.bias)\n",
      "  %output = Sigmoid(%/fc_audioset/Gemm_output_0)\n",
      "  return %output, %onnx::Gemm_132\n",
      "}\n"
     ]
    }
   ],
   "source": [
    "model = onnx.load(ONNX_PATH)\n",
    "print(onnx.helper.printable_graph(model.graph))"
   ]
  },
  {
   "cell_type": "code",
   "execution_count": 10,
   "id": "273f60a0",
   "metadata": {},
   "outputs": [
    {
     "name": "stdout",
     "output_type": "stream",
     "text": [
      "모델 검증 성공\n"
     ]
    }
   ],
   "source": [
    "try:\n",
    "    onnx.checker.check_model(model)\n",
    "    print(\"모델 검증 성공\")\n",
    "except onnx.checker.ValidationError as e:\n",
    "    print(\"모델 검증 실패\")\n",
    "    print(e)"
   ]
  },
  {
   "cell_type": "code",
   "execution_count": 11,
   "id": "968952c1",
   "metadata": {},
   "outputs": [
    {
     "name": "stderr",
     "output_type": "stream",
     "text": [
      "Serving './onnx/panns_cnn14.onnx' at http://localhost:8080\n"
     ]
    },
    {
     "data": {
      "text/plain": [
       "('localhost', 8080)"
      ]
     },
     "execution_count": 11,
     "metadata": {},
     "output_type": "execute_result"
    }
   ],
   "source": [
    "# 모델 시각화\n",
    "netron.start (ONNX_PATH)"
   ]
  }
 ],
 "metadata": {
  "kernelspec": {
   "display_name": "pytorch_2.7.0",
   "language": "python",
   "name": "python3"
  },
  "language_info": {
   "codemirror_mode": {
    "name": "ipython",
    "version": 3
   },
   "file_extension": ".py",
   "mimetype": "text/x-python",
   "name": "python",
   "nbconvert_exporter": "python",
   "pygments_lexer": "ipython3",
   "version": "3.12.9"
  }
 },
 "nbformat": 4,
 "nbformat_minor": 5
}
