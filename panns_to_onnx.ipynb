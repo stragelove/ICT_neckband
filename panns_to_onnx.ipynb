{
 "cells": [
  {
   "cell_type": "code",
   "execution_count": 15,
   "id": "ca1e403c",
   "metadata": {},
   "outputs": [],
   "source": [
    "import torch\n",
    "import onnx\n",
    "# import netron"
   ]
  },
  {
   "cell_type": "code",
   "execution_count": null,
   "id": "629a8b13",
   "metadata": {},
   "outputs": [],
   "source": [
    "print(torch.__version__)\n",
    "print(onnx.__version__)"
   ]
  },
  {
   "cell_type": "code",
   "execution_count": null,
   "id": "f109a69e",
   "metadata": {},
   "outputs": [],
   "source": [
    "MODEL_PATH = \"./result/best.pt\" # 모델 경로\n",
    "ONNX_PATH = \"./onnx/panns_cnn14.onnx\" # 오닉스 저장경로\n",
    "DEVICE = 'cuda' if torch.cuda.is_available() else 'cpu' # cuda 사용 가능여부 확인"
   ]
  },
  {
   "cell_type": "code",
   "execution_count": null,
   "id": "e9027473",
   "metadata": {},
   "outputs": [],
   "source": [
    "print(DEVICE)"
   ]
  },
  {
   "cell_type": "code",
   "execution_count": null,
   "id": "120c0117",
   "metadata": {},
   "outputs": [],
   "source": [
    "# 모델 로드\n",
    "model = torch.load(MODEL_PATH, weights_only=False)\n",
    "model.to(DEVICE)\n",
    "# print(model.spectrogram_extractor.stft.pad_mode)"
   ]
  },
  {
   "cell_type": "raw",
   "id": "934caa93",
   "metadata": {
    "vscode": {
     "languageId": "raw"
    }
   },
   "source": [
    "# 패딩 모드 변경\n",
    "'''\n",
    "STFT 입력층의 패딩의 형태를 상수의 형대로 정하는 코드\n",
    "모델의 기본값은 \"reflect\" 이나\n",
    "onnx 와의 호환성을 위해 \"constant\" 변경\n",
    "'''\n",
    "model.spectrogram_extractor.stft.pad_mode = \"constant\"\n",
    "print(model.spectrogram_extractor.stft.pad_mode)"
   ]
  },
  {
   "cell_type": "code",
   "execution_count": null,
   "id": "acf4b1b4",
   "metadata": {},
   "outputs": [],
   "source": [
    "# 더미 생성: (batch_size, length)\n",
    "dummy_input = torch.randn(1, 1, 101, 64, device=DEVICE)"
   ]
  },
  {
   "cell_type": "code",
   "execution_count": null,
   "id": "558bd945",
   "metadata": {},
   "outputs": [],
   "source": [
    "print(dummy_input.shape)"
   ]
  },
  {
   "cell_type": "code",
   "execution_count": null,
   "id": "1bbdb389",
   "metadata": {},
   "outputs": [],
   "source": [
    "# onnx 모델 변환\n",
    "print(\"ONNX 변환중...\")\n",
    "\n",
    "torch.onnx.export(model, # PyTorch 모델\n",
    "                dummy_input, # 입력 텐서 (튜플도 가능)\n",
    "                ONNX_PATH, # 저장할 파일 경로\n",
    "                export_params=True, # 모델 파라미터 포함\n",
    "                opset_version=11, # onnx의 연산자 버전\n",
    "                input_names=['input'], # 입력 이름\n",
    "                output_names=['output'], # 출력 이름\n",
    "                dynamic_axes={'input': {0: 'batch_size'}, 'output': {0: 'batch_size'}} # 배치 크기를 동적으로 지정\n",
    ")\n",
    "\n",
    "print(f\"ONNX 변환완료'{ONNX_PATH}'에 저장됨\")"
   ]
  },
  {
   "cell_type": "code",
   "execution_count": null,
   "id": "fa4b418d",
   "metadata": {},
   "outputs": [],
   "source": [
    "model = onnx.load(ONNX_PATH)\n",
    "print(onnx.helper.printable_graph(model.graph))"
   ]
  },
  {
   "cell_type": "code",
   "execution_count": null,
   "id": "bdc3ab8b",
   "metadata": {},
   "outputs": [],
   "source": [
    "print(\"Inputs:\")\n",
    "for input_tensor in model.graph.input:\n",
    "    print(input_tensor)\n",
    "\n",
    "print(\"\\nOutputs:\")\n",
    "for output_tensor in model.graph.output:\n",
    "    print(output_tensor)"
   ]
  },
  {
   "cell_type": "code",
   "execution_count": null,
   "id": "273f60a0",
   "metadata": {},
   "outputs": [],
   "source": [
    "try:\n",
    "    onnx.checker.check_model(model)\n",
    "    print(\"모델이 올바른 ONNX 형식을 따릅니다.\")\n",
    "except onnx.checker.ValidationError as e:\n",
    "    print(\"모델 검증 실패\")\n",
    "    print(e)"
   ]
  },
  {
   "cell_type": "code",
   "execution_count": null,
   "id": "968952c1",
   "metadata": {},
   "outputs": [],
   "source": [
    "# # 모델 시각화\n",
    "# netron.start (ONNX_PATH)"
   ]
  }
 ],
 "metadata": {
  "kernelspec": {
   "display_name": "pytorch_2.6.0",
   "language": "python",
   "name": "python3"
  },
  "language_info": {
   "codemirror_mode": {
    "name": "ipython",
    "version": 3
   },
   "file_extension": ".py",
   "mimetype": "text/x-python",
   "name": "python",
   "nbconvert_exporter": "python",
   "pygments_lexer": "ipython3",
   "version": "3.13.2"
  }
 },
 "nbformat": 4,
 "nbformat_minor": 5
}
