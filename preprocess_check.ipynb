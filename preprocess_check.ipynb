{
 "cells": [
  {
   "cell_type": "code",
   "execution_count": 31,
   "id": "c42ce544",
   "metadata": {},
   "outputs": [],
   "source": [
    "import sys\n",
    "sys.path.append('./obsoleted_models')\n",
    "\n",
    "import torch\n",
    "\n",
    "from obsoleted_models.models import Cnn14\n",
    "from model.stft import AudioPreprocessor"
   ]
  },
  {
   "cell_type": "code",
   "execution_count": 32,
   "id": "78ddf2dd",
   "metadata": {},
   "outputs": [],
   "source": [
    "DATASET = \"./Dataset/\" # 데이터셋 경로\n",
    "CHECKPOINT = \"./checkpoint/Cnn14_16k_mAP=0.438.pth\" # 모델의 사전학습된 가중치\n",
    "DEVICE = torch.device(\"cuda\" if torch.cuda.is_available() else \"cpu\") # torch에 전달할 디바이스 종류"
   ]
  },
  {
   "cell_type": "code",
   "execution_count": 33,
   "id": "97cf6756",
   "metadata": {},
   "outputs": [],
   "source": [
    "checkpoint = torch.load(CHECKPOINT, map_location=DEVICE, weights_only=False)"
   ]
  },
  {
   "cell_type": "code",
   "execution_count": 34,
   "id": "43a2af68",
   "metadata": {},
   "outputs": [
    {
     "name": "stdout",
     "output_type": "stream",
     "text": [
      "전처리 키:\n",
      "spectrogram_extractor.stft.conv_real.weight\n",
      "spectrogram_extractor.stft.conv_imag.weight\n",
      "logmel_extractor.melW\n"
     ]
    }
   ],
   "source": [
    "state_dict = checkpoint[\"model\"]\n",
    "print(\"전처리 키:\")\n",
    "for k in state_dict.keys():\n",
    "    if \"spectrogram_extractor\" in k or \"logmel_extractor\" in k:\n",
    "        print(k)"
   ]
  },
  {
   "cell_type": "code",
   "execution_count": 35,
   "id": "70d87226",
   "metadata": {},
   "outputs": [],
   "source": [
    "waveform = torch.randn(1, 16000)"
   ]
  },
  {
   "cell_type": "code",
   "execution_count": 36,
   "id": "3e09e31e",
   "metadata": {},
   "outputs": [],
   "source": [
    "model = Cnn14(\n",
    "    sample_rate=16000, # 샘플링 레이트 16k\n",
    "    window_size=512, # 윈도우 사이즈\n",
    "    hop_size=160, # 홉 사이즈\n",
    "    mel_bins=64, # mel 주파수 채널 수\n",
    "    fmin=50, # mel 주파수 최소치\n",
    "    fmax=8000, # mel 주파수 최대치\n",
    "    classes_num=527 # 분류할 클래스 숫자\n",
    ")\n",
    "model.eval()\n",
    "\n",
    "preproc = AudioPreprocessor(\n",
    "    sample_rate=16000,\n",
    "    window_size=512,\n",
    "    hop_size=160,\n",
    "    mel_bins=64,\n",
    "    fmin=50,\n",
    "    fmax=8000\n",
    ")"
   ]
  },
  {
   "cell_type": "code",
   "execution_count": 37,
   "id": "2ea1ef7b",
   "metadata": {},
   "outputs": [],
   "source": [
    "with torch.no_grad():\n",
    "    logmel_internal = model.spectrogram_extractor(waveform)\n",
    "    logmel_internal = model.logmel_extractor(logmel_internal)\n",
    "\n",
    "    logmel_external = preproc(waveform, training=False)"
   ]
  },
  {
   "cell_type": "code",
   "execution_count": 38,
   "id": "13310a2a",
   "metadata": {},
   "outputs": [
    {
     "name": "stdout",
     "output_type": "stream",
     "text": [
      "<class 'torch.Tensor'> <class 'torch.Tensor'>\n"
     ]
    }
   ],
   "source": [
    "print(type(logmel_internal), type(logmel_external)) "
   ]
  },
  {
   "cell_type": "code",
   "execution_count": 39,
   "id": "02855740",
   "metadata": {},
   "outputs": [
    {
     "name": "stdout",
     "output_type": "stream",
     "text": [
      "equal logmel: True\n"
     ]
    }
   ],
   "source": [
    "equal = torch.allclose(logmel_internal, logmel_external, atol=1e-5)\n",
    "print(\"equal logmel:\", equal)"
   ]
  }
 ],
 "metadata": {
  "kernelspec": {
   "display_name": "pytorch_2.7.0",
   "language": "python",
   "name": "python3"
  },
  "language_info": {
   "codemirror_mode": {
    "name": "ipython",
    "version": 3
   },
   "file_extension": ".py",
   "mimetype": "text/x-python",
   "name": "python",
   "nbconvert_exporter": "python",
   "pygments_lexer": "ipython3",
   "version": "3.12.9"
  }
 },
 "nbformat": 4,
 "nbformat_minor": 5
}
