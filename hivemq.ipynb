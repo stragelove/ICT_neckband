{
 "cells": [
  {
   "cell_type": "code",
   "execution_count": 4,
   "id": "e3ee5ff0",
   "metadata": {},
   "outputs": [],
   "source": [
    "import paho.mqtt.client as mqtt\n",
    "import time\n",
    "import ssl # SSL/TLS 사용 위해 import"
   ]
  },
  {
   "cell_type": "code",
   "execution_count": 5,
   "id": "00485bae",
   "metadata": {},
   "outputs": [],
   "source": [
    "# --- MQTT 브로커 정보 ---\n",
    "MQTT_BROKER = \"980ce8dfb90a4c1f923f97df872e7302.s1.eu.hivemq.cloud\"\n",
    "MQTT_PORT = 8883  # MQTT over TLS/SSL 포트\n",
    "MQTT_USERNAME = \"poiu0987\"\n",
    "MQTT_PASSWORD = \"Qwer1234\" # 실제 비밀번호 입력\n",
    " \n",
    "# --- 토픽 설정 ---\n",
    "SUB_TOPIC = \"test/kotlin/phone\" # 라즈베리파이가 구독할 토픽 (예시)\n",
    "PUB_TOPIC = \"test/kotlin/pc\"  # 라즈베리파이가 발행할 토픽 (예시)"
   ]
  },
  {
   "cell_type": "code",
   "execution_count": 7,
   "id": "80b7d4d5",
   "metadata": {},
   "outputs": [],
   "source": [
    "# --- 콜백 함수 정의 ---\n",
    "\n",
    "# 브로커 연결 성공 시 호출되는 콜백\n",
    "def on_connect(client, userdata, flags, rc, properties=None):\n",
    "    if rc == 0:\n",
    "        print(\"MQTT 브로커에 성공적으로 연결되었습니다.\")\n",
    "        # 연결 성공 시 토픽 구독\n",
    "        client.subscribe(SUB_TOPIC)\n",
    "        print(f\"'{SUB_TOPIC}' 토픽 구독 시작\")\n",
    "    else:\n",
    "        print(f\"MQTT 연결 실패 (Code: {rc})\")\n",
    " \n",
    "# 메시지 수신 시 호출되는 콜백\n",
    "def on_message(client, userdata, msg):\n",
    "    print(f\"메시지 수신 - 토픽: {msg.topic}, 메시지: {msg.payload.decode('utf-8')}\")\n",
    "    # 여기서 수신된 메시지에 따라 라즈베리파이 동작 제어 (예: GPIO 제어)\n",
    " \n",
    "# 메시지 발행 완료 시 호출되는 콜백 (QoS 1 또는 2 사용 시)\n",
    "def on_publish(client, userdata, mid, rc, properties=None):\n",
    "    print(f\"메시지 발행 완료 (MID: {mid})\")"
   ]
  },
  {
   "cell_type": "code",
   "execution_count": 8,
   "id": "4d004d33",
   "metadata": {},
   "outputs": [
    {
     "name": "stdout",
     "output_type": "stream",
     "text": [
      "MQTT 브로커에 성공적으로 연결되었습니다.\n",
      "'test/kotlin/phone' 토픽 구독 시작\n",
      "메시지 발행 완료 (MID: 1)\n",
      "'test/kotlin/pc' 토픽으로 메시지 발행 성공: Raspberry Pi is alive at 2025-05-22 13:33:46\n",
      "메시지 발행 완료 (MID: 3)\n",
      "'test/kotlin/pc' 토픽으로 메시지 발행 성공: Raspberry Pi is alive at 2025-05-22 13:33:57\n",
      "메시지 수신 - 토픽: test/kotlin/phone, 메시지: hello\n",
      "메시지 수신 - 토픽: test/kotlin/phone, 메시지: hello\n",
      "메시지 수신 - 토픽: test/kotlin/phone, 메시지: hello\n",
      "메시지 발행 완료 (MID: 4)\n",
      "'test/kotlin/pc' 토픽으로 메시지 발행 성공: Raspberry Pi is alive at 2025-05-22 13:34:07\n",
      "메시지 발행 완료 (MID: 5)\n",
      "'test/kotlin/pc' 토픽으로 메시지 발행 성공: Raspberry Pi is alive at 2025-05-22 13:34:17\n",
      "스크립트 종료.\n",
      "MQTT 연결 해제됨.\n"
     ]
    }
   ],
   "source": [
    "# --- MQTT 클라이언트 설정 및 실행 ---\n",
    " \n",
    "# 클라이언트 인스턴스 생성 (ClientID는 자동 생성됨, 필요시 mqtt.Client(\"myRaspberryPi\") 처럼 지정 가능)\n",
    "client = mqtt.Client(mqtt.CallbackAPIVersion.VERSION2) # 최신 콜백 API 버전 사용 권장\n",
    " \n",
    "# 콜백 함수 등록\n",
    "client.on_connect = on_connect\n",
    "client.on_message = on_message\n",
    "client.on_publish = on_publish\n",
    "\n",
    "# 사용자 이름 및 비밀번호 설정\n",
    "client.username_pw_set(MQTT_USERNAME, MQTT_PASSWORD)\n",
    " \n",
    "# TLS/SSL 설정 (포트 8883 사용 시 필수)\n",
    "# 기본 CA 인증서를 사용하거나, 필요시 특정 인증서 파일 경로 지정 가능\n",
    "client.tls_set(tls_version=ssl.PROTOCOL_TLSv1_2) # 명시적으로 TLS 버전 지정 권장\n",
    " \n",
    "# 브로커 연결 시도\n",
    "try:\n",
    "    client.connect(MQTT_BROKER, MQTT_PORT, 60) # 60초 타임아웃\n",
    "except Exception as e:\n",
    "    print(f\"MQTT 연결 중 오류 발생: {e}\")\n",
    "    exit() # 연결 실패 시 종료\n",
    " \n",
    "# 네트워크 루프 시작 (백그라운드 스레드에서 실행, 메시지 수신 및 자동 재연결 처리)\n",
    "client.loop_start()\n",
    " \n",
    "# --- 메시지 발행 (예시) ---\n",
    "try:\n",
    "    while True:\n",
    "        # 10초마다 라즈베리파이 상태 발행 (예시)\n",
    "        status_message = f\"Raspberry Pi is alive at {time.strftime('%Y-%m-%d %H:%M:%S')}\"\n",
    "        result = client.publish(PUB_TOPIC, status_message, qos=1) # QoS 1로 발행 시도\n",
    "        result.wait_for_publish() # 발행 완료 기다리기 (선택 사항)\n",
    "        if result.rc == mqtt.MQTT_ERR_SUCCESS:\n",
    "             print(f\"'{PUB_TOPIC}' 토픽으로 메시지 발행 성공: {status_message}\")\n",
    "        else:\n",
    "            print(f\"메시지 발행 실패 (Code: {result.rc})\")\n",
    " \n",
    "        time.sleep(10)\n",
    " \n",
    "except KeyboardInterrupt:\n",
    "    print(\"스크립트 종료.\")\n",
    "finally:\n",
    "    client.loop_stop() # 네트워크 루프 정지\n",
    "    client.disconnect() # 브로커 연결 해제\n",
    "    print(\"MQTT 연결 해제됨.\")"
   ]
  }
 ],
 "metadata": {
  "kernelspec": {
   "display_name": "pytorch_2.7.0",
   "language": "python",
   "name": "python3"
  },
  "language_info": {
   "codemirror_mode": {
    "name": "ipython",
    "version": 3
   },
   "file_extension": ".py",
   "mimetype": "text/x-python",
   "name": "python",
   "nbconvert_exporter": "python",
   "pygments_lexer": "ipython3",
   "version": "3.13.1"
  }
 },
 "nbformat": 4,
 "nbformat_minor": 5
}
