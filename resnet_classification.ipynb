{
 "cells": [
  {
   "cell_type": "code",
   "execution_count": 19,
   "id": "d5292e7c",
   "metadata": {},
   "outputs": [],
   "source": [
    "import torch\n",
    "import torch.nn.functional as F\n",
    "import numpy as np\n",
    "import Preprocessor as pp\n",
    "import sounddevice as sd # 마이크 입력을 위한 라이브러리"
   ]
  },
  {
   "cell_type": "raw",
   "id": "1817dcf2",
   "metadata": {
    "vscode": {
     "languageId": "raw"
    }
   },
   "source": [
    "print(sd.query_devices())"
   ]
  },
  {
   "cell_type": "code",
   "execution_count": 20,
   "id": "171a4307",
   "metadata": {},
   "outputs": [],
   "source": [
    "sd.default.device = (1, None)"
   ]
  },
  {
   "cell_type": "code",
   "execution_count": 21,
   "id": "b800c713",
   "metadata": {},
   "outputs": [],
   "source": [
    "SAVE_BEST_PATH = \"./result/resnet152_best.pt\"\n",
    "CLASS_NAME = [\"danger\", \"fire\", \"gas\", \"non\", \"tsunami\"]\n",
    "DEVICE = torch.device(\"cuda\" if torch.cuda.is_available() else \"cpu\")\n",
    "\n",
    "# 하이퍼 파라미터\n",
    "CLASS_NUM = len(CLASS_NAME)\n",
    "SAMPLE_RATE = 16000\n",
    "DURATION = 1\n",
    "NUM_SAMPLES = SAMPLE_RATE * DURATION\n",
    "BATCH_SIZE = 32\n",
    "LEARNING_RATE = 1e-4"
   ]
  },
  {
   "cell_type": "code",
   "execution_count": 22,
   "id": "de5e39ab",
   "metadata": {},
   "outputs": [],
   "source": [
    "def logmel_transform(audio_np):\n",
    "    # numpy 배열을 torch 텐서로 변환, 배치 차원 추가: (1, num_samples)\n",
    "    waveform = torch.tensor(audio_np, dtype=torch.float32)\n",
    "\n",
    "    # 2채널 이상일때 1채널로 변환\n",
    "    if waveform.shape[0] > 1:\n",
    "        waveform = waveform.mean(axis=-1)\n",
    "    \n",
    "    # 오디오 샘플의 길이조정\n",
    "    if waveform.shape[1] < NUM_SAMPLES: # 길이가 부족하면 0(무음)을 채워 길이를 연장\n",
    "        waveform = F.pad(waveform, (0, NUM_SAMPLES - waveform.shape[1])) # num_samples와 현재의 길이의 차 만큼 0을 패딩\n",
    "    else:\n",
    "        waveform = waveform[:, :NUM_SAMPLES] # 길이가 길면 슬라이싱\n",
    "\n",
    "    # 절댓값 정규화(-1 ~ 1)\n",
    "    waveform = waveform / (waveform.abs().max() + 1e-9)\n",
    "\n",
    "    logmel = pp.logmel(waveform).unsqueeze(0) # [batch, channel, mel_bins, time]\n",
    "\n",
    "    return logmel\n",
    "\n",
    "\n",
    "def predict(model, logmel, device=DEVICE):\n",
    "    logmel = logmel.to(device)\n",
    "\n",
    "    with torch.no_grad():\n",
    "        outputs = model(logmel)\n",
    "        probabilities = F.softmax(outputs, dim=1).cpu().numpy()[0]\n",
    "        idx = probabilities.argmax()\n",
    "\n",
    "    return idx, probabilities"
   ]
  },
  {
   "cell_type": "code",
   "execution_count": 23,
   "id": "ce69b3e2",
   "metadata": {},
   "outputs": [
    {
     "name": "stdout",
     "output_type": "stream",
     "text": [
      "\n"
     ]
    }
   ],
   "source": [
    "model = torch.load(SAVE_BEST_PATH, map_location=DEVICE, weights_only=False)\n",
    "model.to(DEVICE)\n",
    "model.eval()\n",
    "print()"
   ]
  },
  {
   "cell_type": "code",
   "execution_count": 24,
   "id": "4c97752c",
   "metadata": {},
   "outputs": [
    {
     "name": "stdout",
     "output_type": "stream",
     "text": [
      "실시간 마이크 입력을 시작합니다.\n",
      "non | 92.23%\n",
      "non | 93.97%\n",
      "non | 99.08%\n",
      "non | 79.96%\n",
      "non | 75.29%\n",
      "non | 94.86%\n",
      "non | 93.36%\n",
      "non | 87.91%\n",
      "non | 91.72%\n",
      "non | 85.79%\n",
      "non | 81.98%\n",
      "non | 83.58%\n",
      "non | 87.44%\n",
      "non | 96.74%\n",
      "non | 84.82%\n",
      "non | 91.58%\n",
      "non | 93.49%\n",
      "non | 98.64%\n",
      "non | 93.13%\n",
      "non | 84.00%\n",
      "non | 97.17%\n",
      "non | 91.38%\n",
      "non | 80.60%\n",
      "non | 89.18%\n",
      "non | 98.01%\n",
      "non | 74.33%\n",
      "non | 97.15%\n",
      "non | 94.70%\n",
      "non | 82.29%\n",
      "fire | 80.30%\n",
      "non | 62.80%\n",
      "fire | 84.22%\n",
      "non | 65.48%\n",
      "fire | 66.77%\n",
      "non | 55.02%\n",
      "non | 96.80%\n",
      "non | 88.99%\n",
      "non | 94.69%\n",
      "non | 88.06%\n",
      "non | 91.99%\n",
      "non | 97.74%\n",
      "non | 86.27%\n",
      "fire | 50.96%\n",
      "non | 81.10%\n",
      "non | 94.11%\n",
      "non | 82.55%\n",
      "non | 94.31%\n",
      "non | 92.93%\n",
      "non | 93.23%\n",
      "non | 97.62%\n",
      "non | 90.38%\n",
      "non | 95.88%\n",
      "non | 91.44%\n",
      "non | 95.56%\n",
      "non | 92.35%\n",
      "non | 88.21%\n",
      "non | 77.75%\n",
      "non | 92.94%\n",
      "non | 86.32%\n",
      "non | 80.44%\n",
      "non | 70.04%\n",
      "non | 76.58%\n",
      "non | 60.66%\n",
      "non | 93.58%\n",
      "non | 53.44%\n",
      "non | 72.57%\n",
      "fire | 67.46%\n",
      "non | 93.67%\n",
      "non | 86.08%\n",
      "non | 99.88%\n",
      "non | 96.71%\n",
      "\n",
      "실시간 마이크 입력을 종료합니다.\n",
      " \n"
     ]
    }
   ],
   "source": [
    "print(\"실시간 마이크 입력을 시작합니다.\")\n",
    "\n",
    "try:\n",
    "    # 실시간 마이크 입력 루프\n",
    "    while True:\n",
    "        # 오디오를 실시간으로 마이크에서 녹음\n",
    "        audio_np = sd.rec(frames=NUM_SAMPLES, # 녹음할 샘플 수 (1초 분량)\n",
    "                          samplerate=SAMPLE_RATE, # 샘플링 레이트\n",
    "                          channels=1, # 단일 채널 (모노)\n",
    "                          dtype=\"float32\" # float32 타입으로 녹음\n",
    "                          ).transpose(1, 0)\n",
    "        sd.wait() # 녹음 완료까지 대기\n",
    "\n",
    "        # audio_np = logmel(audio_np)\n",
    "        logmel = logmel_transform(audio_np)\n",
    "        idx, probabilities = predict(model, logmel)\n",
    "\n",
    "        print(f\"{CLASS_NAME[idx]} | {probabilities[idx] * 100:.2f}%\")\n",
    "\n",
    "except KeyboardInterrupt as e:\n",
    "    print(\"\\n실시간 마이크 입력을 종료합니다.\\n\", e)"
   ]
  }
 ],
 "metadata": {
  "kernelspec": {
   "display_name": "pytorch_2.7.0",
   "language": "python",
   "name": "python3"
  },
  "language_info": {
   "codemirror_mode": {
    "name": "ipython",
    "version": 3
   },
   "file_extension": ".py",
   "mimetype": "text/x-python",
   "name": "python",
   "nbconvert_exporter": "python",
   "pygments_lexer": "ipython3",
   "version": "3.12.9"
  }
 },
 "nbformat": 4,
 "nbformat_minor": 5
}
