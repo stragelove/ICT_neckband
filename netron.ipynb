{
 "cells": [
  {
   "cell_type": "code",
   "execution_count": 1,
   "id": "81237033",
   "metadata": {},
   "outputs": [],
   "source": [
    "import onnx"
   ]
  },
  {
   "cell_type": "code",
   "execution_count": 2,
   "id": "665f3785",
   "metadata": {},
   "outputs": [],
   "source": [
    "onnx_path = \"./onnx/panns_cnn14.onnx\"\n",
    "model = onnx.load(onnx_path)"
   ]
  },
  {
   "cell_type": "code",
   "execution_count": 4,
   "id": "29d8b6c7",
   "metadata": {},
   "outputs": [
    {
     "name": "stdout",
     "output_type": "stream",
     "text": [
      "Input name: input\n",
      "Output name: output\n",
      "Output name: onnx::Gemm_132\n"
     ]
    }
   ],
   "source": [
    "for input in model.graph.input:\n",
    "    print(\"Input name:\", input.name)\n",
    "\n",
    "for output in model.graph.output:\n",
    "    print(\"Output name:\", output.name)"
   ]
  },
  {
   "cell_type": "code",
   "execution_count": 5,
   "id": "a36e4478",
   "metadata": {},
   "outputs": [
    {
     "name": "stdout",
     "output_type": "stream",
     "text": [
      "/Transpose Transpose ['/Transpose_output_0']\n",
      "/bn0/BatchNormalization BatchNormalization ['/bn0/BatchNormalization_output_0']\n",
      "/Transpose_1 Transpose ['/Transpose_1_output_0']\n",
      "/conv_block1/conv1/Conv Conv ['/conv_block1/conv1/Conv_output_0']\n",
      "/conv_block1/Relu Relu ['/conv_block1/Relu_output_0']\n",
      "/conv_block1/conv2/Conv Conv ['/conv_block1/conv2/Conv_output_0']\n",
      "/conv_block1/Relu_1 Relu ['/conv_block1/Relu_1_output_0']\n",
      "/conv_block1/AveragePool AveragePool ['/conv_block1/AveragePool_output_0']\n",
      "/conv_block2/conv1/Conv Conv ['/conv_block2/conv1/Conv_output_0']\n",
      "/conv_block2/Relu Relu ['/conv_block2/Relu_output_0']\n",
      "/conv_block2/conv2/Conv Conv ['/conv_block2/conv2/Conv_output_0']\n",
      "/conv_block2/Relu_1 Relu ['/conv_block2/Relu_1_output_0']\n",
      "/conv_block2/AveragePool AveragePool ['/conv_block2/AveragePool_output_0']\n",
      "/conv_block3/conv1/Conv Conv ['/conv_block3/conv1/Conv_output_0']\n",
      "/conv_block3/Relu Relu ['/conv_block3/Relu_output_0']\n",
      "/conv_block3/conv2/Conv Conv ['/conv_block3/conv2/Conv_output_0']\n",
      "/conv_block3/Relu_1 Relu ['/conv_block3/Relu_1_output_0']\n",
      "/conv_block3/AveragePool AveragePool ['/conv_block3/AveragePool_output_0']\n",
      "/conv_block4/conv1/Conv Conv ['/conv_block4/conv1/Conv_output_0']\n",
      "/conv_block4/Relu Relu ['/conv_block4/Relu_output_0']\n",
      "/conv_block4/conv2/Conv Conv ['/conv_block4/conv2/Conv_output_0']\n",
      "/conv_block4/Relu_1 Relu ['/conv_block4/Relu_1_output_0']\n",
      "/conv_block4/AveragePool AveragePool ['/conv_block4/AveragePool_output_0']\n",
      "/conv_block5/conv1/Conv Conv ['/conv_block5/conv1/Conv_output_0']\n",
      "/conv_block5/Relu Relu ['/conv_block5/Relu_output_0']\n",
      "/conv_block5/conv2/Conv Conv ['/conv_block5/conv2/Conv_output_0']\n",
      "/conv_block5/Relu_1 Relu ['/conv_block5/Relu_1_output_0']\n",
      "/conv_block5/AveragePool AveragePool ['/conv_block5/AveragePool_output_0']\n",
      "/conv_block6/conv1/Conv Conv ['/conv_block6/conv1/Conv_output_0']\n",
      "/conv_block6/Relu Relu ['/conv_block6/Relu_output_0']\n",
      "/conv_block6/conv2/Conv Conv ['/conv_block6/conv2/Conv_output_0']\n",
      "/conv_block6/Relu_1 Relu ['/conv_block6/Relu_1_output_0']\n",
      "/conv_block6/AveragePool AveragePool ['/conv_block6/AveragePool_output_0']\n",
      "/ReduceMean ReduceMean ['/ReduceMean_output_0']\n",
      "/ReduceMax ReduceMax ['/ReduceMax_output_0']\n",
      "/ReduceMean_1 ReduceMean ['/ReduceMean_1_output_0']\n",
      "/Add Add ['/Add_output_0']\n",
      "/fc1/Gemm Gemm ['/fc1/Gemm_output_0']\n",
      "/Relu Relu ['onnx::Gemm_132']\n",
      "/fc_audioset/Gemm Gemm ['/fc_audioset/Gemm_output_0']\n",
      "/Sigmoid Sigmoid ['output']\n"
     ]
    }
   ],
   "source": [
    "for node in model.graph.node:\n",
    "    print(node.name, node.op_type, node.output)"
   ]
  }
 ],
 "metadata": {
  "kernelspec": {
   "display_name": "pytorch_2.7.0",
   "language": "python",
   "name": "python3"
  },
  "language_info": {
   "codemirror_mode": {
    "name": "ipython",
    "version": 3
   },
   "file_extension": ".py",
   "mimetype": "text/x-python",
   "name": "python",
   "nbconvert_exporter": "python",
   "pygments_lexer": "ipython3",
   "version": "undefined.undefined.undefined"
  }
 },
 "nbformat": 4,
 "nbformat_minor": 5
}
