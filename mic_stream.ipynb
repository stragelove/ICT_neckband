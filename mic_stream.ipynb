{
 "cells": [
  {
   "cell_type": "code",
   "execution_count": 3,
   "id": "163620ca",
   "metadata": {},
   "outputs": [],
   "source": [
    "import sounddevice as sd\n",
    "import numpy as np\n",
    "import matplotlib.pyplot as plt\n",
    "import matplotlib.animation as animation"
   ]
  },
  {
   "cell_type": "code",
   "execution_count": 5,
   "id": "b0239b54",
   "metadata": {},
   "outputs": [],
   "source": [
    "sd.default_device = (1, None)"
   ]
  },
  {
   "cell_type": "code",
   "execution_count": null,
   "id": "aaa0ff98",
   "metadata": {},
   "outputs": [],
   "source": [
    "SAMPLE_RATE = 48000\n",
    "BUFFER_SIZE = 1024\n",
    "DURATION = 1\n",
    "NUM_SAMPLES = SAMPLE_RATE * DURATION"
   ]
  },
  {
   "cell_type": "code",
   "execution_count": null,
   "id": "cc4c9180",
   "metadata": {},
   "outputs": [],
   "source": [
    "audio_buffer = np.zeros(BUFFER_SIZE)"
   ]
  },
  {
   "cell_type": "code",
   "execution_count": null,
   "id": "24f106f0",
   "metadata": {},
   "outputs": [],
   "source": [
    "print(\"Ctrl+C를 눌러 녹음을 종료하세요.\")\n",
    "\n",
    "try:\n",
    "    while True:\n",
    "        print(\"\\n오디오 수집 중...\")\n",
    "\n",
    "        audio_np = sd.rec(frames=NUM_SAMPLES, samplerate=SAMPLE_RATE, channels=1, dtype=\"float32\")\n",
    "        sd.wait()\n",
    "\n",
    "        audio_np = audio_np.flatten()\n",
    "\n",
    "        time_axis = np.linspace(0, DURATION, NUM_SAMPLES)\n",
    "\n",
    "        plt.figure(figsize=(10,4))\n",
    "        plt.plot(time_axis, audio_np, color=\"steelblue\")\n",
    "        plt.title(\"오디오\")\n",
    "        plt.xlabel(\"시간\")\n",
    "        plt.ylabel(\"진폭\")\n",
    "        plt.ylim(-1, 1)\n",
    "        plt.grid(True)\n",
    "        plt.tight_layout()\n",
    "        plt.show()\n",
    "        \n",
    "\n",
    "except KeyboardInterrupt:\n",
    "    print(\"\\n실시간 마이크 입력을 종료합니다.\")"
   ]
  }
 ],
 "metadata": {
  "kernelspec": {
   "display_name": "pytorch_2.6.0",
   "language": "python",
   "name": "python3"
  },
  "language_info": {
   "codemirror_mode": {
    "name": "ipython",
    "version": 3
   },
   "file_extension": ".py",
   "mimetype": "text/x-python",
   "name": "python",
   "nbconvert_exporter": "python",
   "pygments_lexer": "ipython3",
   "version": "3.13.2"
  }
 },
 "nbformat": 4,
 "nbformat_minor": 5
}
