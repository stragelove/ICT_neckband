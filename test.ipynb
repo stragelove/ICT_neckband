{
 "cells": [
  {
   "cell_type": "code",
   "execution_count": 18,
   "id": "94f8e24d",
   "metadata": {},
   "outputs": [],
   "source": [
    "import numpy as np\n",
    "import Preprocessor as pp\n",
    "import sounddevice as sd\n",
    "from hailo_platform import VDevice, HailoSchedulingAlgorithm"
   ]
  },
  {
   "cell_type": "code",
   "execution_count": 19,
   "id": "2e5cbb81",
   "metadata": {},
   "outputs": [
    {
     "name": "stdout",
     "output_type": "stream",
     "text": [
      "* 0 ABKO MP3300: USB Audio (hw:2,0), ALSA (1 in, 0 out)\n",
      "  1 pulse, ALSA (32 in, 32 out)\n",
      "  2 default, ALSA (32 in, 32 out)\n"
     ]
    }
   ],
   "source": [
    "sd.default.device = (0)\n",
    "print(sd.query_devices())"
   ]
  },
  {
   "cell_type": "code",
   "execution_count": 20,
   "id": "33bb5b06",
   "metadata": {},
   "outputs": [],
   "source": [
    "MODEL_PATH = \"model/resnet50.hef\"\n",
    "\n",
    "SAMPLE_RATE = 16000\n",
    "DURATION = 1\n",
    "TIME = int(SAMPLE_RATE * DURATION)\n",
    "CHANNELS = 1"
   ]
  },
  {
   "cell_type": "code",
   "execution_count": 25,
   "id": "acd604fe",
   "metadata": {},
   "outputs": [
    {
     "name": "stdout",
     "output_type": "stream",
     "text": [
      "(16000, 1)\n",
      "(1, 1, 64, 101)\n",
      "-2.6613982 2.016943\n",
      "0.0 255.0\n",
      "(16000, 1)\n",
      "(1, 1, 64, 101)\n",
      "-1.6275426 2.1483278\n",
      "0.0 255.0\n",
      "(16000, 1)\n",
      "(1, 1, 64, 101)\n",
      "-1.4977033 2.0236566\n",
      "0.0 255.0\n"
     ]
    },
    {
     "ename": "KeyboardInterrupt",
     "evalue": "",
     "output_type": "error",
     "traceback": [
      "\u001b[31m---------------------------------------------------------------------------\u001b[39m",
      "\u001b[31mKeyboardInterrupt\u001b[39m                         Traceback (most recent call last)",
      "\u001b[36mCell\u001b[39m\u001b[36m \u001b[39m\u001b[32mIn[25]\u001b[39m\u001b[32m, line 3\u001b[39m\n\u001b[32m      1\u001b[39m \u001b[38;5;28;01mwhile\u001b[39;00m \u001b[38;5;28;01mTrue\u001b[39;00m:\n\u001b[32m      2\u001b[39m     audio = sd.rec(\u001b[38;5;28mint\u001b[39m(TIME), samplerate=SAMPLE_RATE, channels=CHANNELS, dtype=\u001b[33m\"\u001b[39m\u001b[33mfloat32\u001b[39m\u001b[33m\"\u001b[39m)\n\u001b[32m----> \u001b[39m\u001b[32m3\u001b[39m     \u001b[43msd\u001b[49m\u001b[43m.\u001b[49m\u001b[43mwait\u001b[49m\u001b[43m(\u001b[49m\u001b[43m)\u001b[49m\n\u001b[32m      4\u001b[39m     \u001b[38;5;28mprint\u001b[39m(audio.shape)\n\u001b[32m      5\u001b[39m     p_audio = pp.logmel(audio, TIME)\n",
      "\u001b[36mFile \u001b[39m\u001b[32m~/ICT_neckband/hailo_env/lib/python3.11/site-packages/sounddevice.py:398\u001b[39m, in \u001b[36mwait\u001b[39m\u001b[34m(ignore_errors)\u001b[39m\n\u001b[32m    382\u001b[39m \u001b[38;5;250m\u001b[39m\u001b[33;03m\"\"\"Wait for `play()`/`rec()`/`playrec()` to be finished.\u001b[39;00m\n\u001b[32m    383\u001b[39m \n\u001b[32m    384\u001b[39m \u001b[33;03mPlayback/recording can be stopped with a `KeyboardInterrupt`.\u001b[39;00m\n\u001b[32m   (...)\u001b[39m\u001b[32m    395\u001b[39m \n\u001b[32m    396\u001b[39m \u001b[33;03m\"\"\"\u001b[39;00m\n\u001b[32m    397\u001b[39m \u001b[38;5;28;01mif\u001b[39;00m _last_callback:\n\u001b[32m--> \u001b[39m\u001b[32m398\u001b[39m     \u001b[38;5;28;01mreturn\u001b[39;00m \u001b[43m_last_callback\u001b[49m\u001b[43m.\u001b[49m\u001b[43mwait\u001b[49m\u001b[43m(\u001b[49m\u001b[43mignore_errors\u001b[49m\u001b[43m)\u001b[49m\n",
      "\u001b[36mFile \u001b[39m\u001b[32m~/ICT_neckband/hailo_env/lib/python3.11/site-packages/sounddevice.py:2653\u001b[39m, in \u001b[36m_CallbackContext.wait\u001b[39m\u001b[34m(self, ignore_errors)\u001b[39m\n\u001b[32m   2647\u001b[39m \u001b[38;5;250m\u001b[39m\u001b[33;03m\"\"\"Wait for finished_callback.\u001b[39;00m\n\u001b[32m   2648\u001b[39m \n\u001b[32m   2649\u001b[39m \u001b[33;03mCan be interrupted with a KeyboardInterrupt.\u001b[39;00m\n\u001b[32m   2650\u001b[39m \n\u001b[32m   2651\u001b[39m \u001b[33;03m\"\"\"\u001b[39;00m\n\u001b[32m   2652\u001b[39m \u001b[38;5;28;01mtry\u001b[39;00m:\n\u001b[32m-> \u001b[39m\u001b[32m2653\u001b[39m     \u001b[38;5;28;43mself\u001b[39;49m\u001b[43m.\u001b[49m\u001b[43mevent\u001b[49m\u001b[43m.\u001b[49m\u001b[43mwait\u001b[49m\u001b[43m(\u001b[49m\u001b[43m)\u001b[49m\n\u001b[32m   2654\u001b[39m \u001b[38;5;28;01mfinally\u001b[39;00m:\n\u001b[32m   2655\u001b[39m     \u001b[38;5;28mself\u001b[39m.stream.close(ignore_errors)\n",
      "\u001b[36mFile \u001b[39m\u001b[32m/usr/lib/python3.11/threading.py:622\u001b[39m, in \u001b[36mEvent.wait\u001b[39m\u001b[34m(self, timeout)\u001b[39m\n\u001b[32m    620\u001b[39m signaled = \u001b[38;5;28mself\u001b[39m._flag\n\u001b[32m    621\u001b[39m \u001b[38;5;28;01mif\u001b[39;00m \u001b[38;5;129;01mnot\u001b[39;00m signaled:\n\u001b[32m--> \u001b[39m\u001b[32m622\u001b[39m     signaled = \u001b[38;5;28;43mself\u001b[39;49m\u001b[43m.\u001b[49m\u001b[43m_cond\u001b[49m\u001b[43m.\u001b[49m\u001b[43mwait\u001b[49m\u001b[43m(\u001b[49m\u001b[43mtimeout\u001b[49m\u001b[43m)\u001b[49m\n\u001b[32m    623\u001b[39m \u001b[38;5;28;01mreturn\u001b[39;00m signaled\n",
      "\u001b[36mFile \u001b[39m\u001b[32m/usr/lib/python3.11/threading.py:320\u001b[39m, in \u001b[36mCondition.wait\u001b[39m\u001b[34m(self, timeout)\u001b[39m\n\u001b[32m    318\u001b[39m \u001b[38;5;28;01mtry\u001b[39;00m:    \u001b[38;5;66;03m# restore state no matter what (e.g., KeyboardInterrupt)\u001b[39;00m\n\u001b[32m    319\u001b[39m     \u001b[38;5;28;01mif\u001b[39;00m timeout \u001b[38;5;129;01mis\u001b[39;00m \u001b[38;5;28;01mNone\u001b[39;00m:\n\u001b[32m--> \u001b[39m\u001b[32m320\u001b[39m         \u001b[43mwaiter\u001b[49m\u001b[43m.\u001b[49m\u001b[43macquire\u001b[49m\u001b[43m(\u001b[49m\u001b[43m)\u001b[49m\n\u001b[32m    321\u001b[39m         gotit = \u001b[38;5;28;01mTrue\u001b[39;00m\n\u001b[32m    322\u001b[39m     \u001b[38;5;28;01melse\u001b[39;00m:\n",
      "\u001b[31mKeyboardInterrupt\u001b[39m: "
     ]
    }
   ],
   "source": [
    "while True:\n",
    "    audio = sd.rec(int(TIME), samplerate=SAMPLE_RATE, channels=CHANNELS, dtype=\"float32\")\n",
    "    sd.wait()\n",
    "    print(audio.shape)\n",
    "    p_audio = pp.logmel(audio, TIME)\n",
    "    print(p_audio.shape)\n",
    "    print(p_audio.min(), p_audio.max())\n",
    "    s_audio = pp.scale(p_audio, )\n",
    "    print(s_audio.min(), s_audio.max())\n",
    "    # break"
   ]
  },
  {
   "cell_type": "raw",
   "id": "4b64b1df",
   "metadata": {
    "vscode": {
     "languageId": "raw"
    }
   },
   "source": [
    "sample = pp.logmel(\"sample/sample.wav\", TIME)\n",
    "print(sample.shape, sample.dtype)\n",
    "print(sample.min(), sample.max())\n",
    "\n",
    "scaled_sample = pp.scale(sample, uint8=True)\n",
    "print(scaled_sample.shape, scaled_sample.dtype)\n",
    "print(scaled_sample.min(), scaled_sample.max())\n",
    "\n",
    "sample_for_hw = np.transpose(scaled_sample, (0, 2, 3, 1))\n",
    "print(sample_for_hw.shape, sample_for_hw.dtype)"
   ]
  },
  {
   "cell_type": "code",
   "execution_count": null,
   "id": "76027630",
   "metadata": {},
   "outputs": [],
   "source": [
    "# 타임아웃(ms) 설정\n",
    "timeout_ms = 1000\n",
    "\n",
    "# VDevice 파라미터 생성 및 스케줄링 알고리즘 설정\n",
    "params = VDevice.create_params()\n",
    "params.scheduling_algorithm = HailoSchedulingAlgorithm.ROUND_ROBIN"
   ]
  },
  {
   "cell_type": "raw",
   "id": "7c6297e1",
   "metadata": {
    "vscode": {
     "languageId": "raw"
    }
   },
   "source": [
    "with VDevice(params) as vdevice:\n",
    "    infer_model = vdevice.create_infer_model(MODEL_PATH)\n",
    "    \n",
    "    with infer_model.configure() as cfg:\n",
    "        # 단일 입력/출력 바인딩 생성\n",
    "        bindings = cfg.create_bindings()\n",
    "        \n",
    "        # 입력 버퍼 설정 (UINT8 형식)\n",
    "        input_shape = infer_model.input().shape\n",
    "        input_buffer = np.empty(input_shape, dtype=np.uint8)\n",
    "        bindings.input().set_buffer(input_buffer)\n",
    "        \n",
    "        # 출력 버퍼 설정 (UINT8 형식)\n",
    "        output_shape = infer_model.output().shape\n",
    "        output_buffer = np.empty(output_shape, dtype=np.uint8)\n",
    "        bindings.output().set_buffer(output_buffer)\n",
    "\n",
    "        print(\"실시간 추론을 시작합니다\")\n",
    "        \n",
    "        while True:\n",
    "            audio = sd.rec(int(TIME), samplerate=SAMPLE_RATE, channels=CHANNELS, dtype=\"float32\")\n",
    "            sd.wait()\n",
    "\n",
    "            sample = pp.logmel(audio.flatten(), TIME)\n",
    "            scaled = pp.scale(sample, uint8=True)\n",
    "            sample_hw = np.transpose(scaled, (0, 2, 3, 1))\n",
    "\n",
    "            input_buffer[:] = sample_hw\n",
    "\n",
    "            # 비동기 추론 실행\n",
    "            job = cfg.run_async([bindings])\n",
    "            job.wait(timeout_ms)\n",
    "            \n",
    "            # 결과 읽어오기\n",
    "            raw_output = bindings.output().get_buffer()\n",
    "            logits = raw_output.astype(np.float32)\n",
    "            probs = np.exp(logits) / np.exp(logits).sum()\n",
    "            pred_cls = np.argmax(probs)\n",
    "\n",
    "            print(f\"예측클래스: {pred_cls}, 신뢰도: {probs[pred_cls]:.4f}\")\n",
    "            \n",
    "\n"
   ]
  }
 ],
 "metadata": {
  "kernelspec": {
   "display_name": "hailo_env",
   "language": "python",
   "name": "python3"
  },
  "language_info": {
   "codemirror_mode": {
    "name": "ipython",
    "version": 3
   },
   "file_extension": ".py",
   "mimetype": "text/x-python",
   "name": "python",
   "nbconvert_exporter": "python",
   "pygments_lexer": "ipython3",
   "version": "3.11.2"
  }
 },
 "nbformat": 4,
 "nbformat_minor": 5
}
